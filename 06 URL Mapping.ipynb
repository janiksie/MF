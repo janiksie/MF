{
 "cells": [
  {
   "cell_type": "code",
   "execution_count": 3,
   "metadata": {},
   "outputs": [],
   "source": [
    "import pandas as pd\n",
    "import numpy as np\n",
    "import os\n",
    "import re"
   ]
  },
  {
   "cell_type": "markdown",
   "metadata": {},
   "source": [
    "### Compile patterns"
   ]
  },
  {
   "cell_type": "code",
   "execution_count": 27,
   "metadata": {},
   "outputs": [],
   "source": [
    "cat1_pattern = re.compile(r'(http://relaunch|https://www)\\.holzprofi24\\.de/(bodenbelaege|terrassenbelag|garten|sauna|wand-und-decke|kinderwelt|kaminofen)/((?!/).)*$')\n",
    "cat2_pattern = re.compile(r'(http://relaunch|https://www)\\.holzprofi24\\.de/[\\w-]+/[\\w-]+/((?!/).)*$')\n",
    "cat3_pattern = re.compile(r'(http://relaunch|https://www)\\.holzprofi24\\.de/[\\w-]+/[\\w-]+/[\\w-]+/((?!/).)*$')\n",
    "ffadvisor_pattern = re.compile(r'(http://relaunch|https://www)\\.holzprofi24\\.de/[\\w-]+/(parkett|laminat|gartenhaus)/((?!/).)*$')\n",
    "filter_pattern = re.compile(r'(http://relaunch|https://www)\\.holzprofi24\\.de/[\\w-]+/[\\w-]+/.*ffFilter((?!/).)*$')\n",
    "product_pattern = re.compile(r'(http://relaunch|https://www)\\.holzprofi24\\.de/.*-\\w{2}\\d{4}.*')\n",
    "info_pattern = re.compile(r'(http://relaunch|https://www)\\.holzprofi24\\.de/((?!/).)*$')\n",
    "note_pattern = re.compile(r'(http://relaunch|https://www)\\.holzprofi24\\.de/note((?!/).)*$')\n",
    "acc_pattern = re.compile(r'(http://relaunch|https://www)\\.holzprofi24\\.de/account.*')\n",
    "checkout_pattern = re.compile(r'(http://relaunch|https://www)\\.holzprofi24\\.de/checkout($|/.*)')\n",
    "search_pattern = re.compile(r'(http://relaunch|https://www)\\.holzprofi24\\.de/search.*')\n",
    "home_pattern = re.compile(r'(http://relaunch|https://www)\\.holzprofi24\\.de(/$|/\\?.*|((?!/).)*$)')\n",
    "rechnung_pattern = re.compile(r'(http://relaunch|https://www)\\.holzprofi24\\.de/(#rechnung|#vorkasse).*')\n",
    "payment_pattern = re.compile(r'(http://relaunch|https://www)\\.holzprofi24\\.de/payment_.*')\n",
    "marken_pattern = re.compile(r'(http://relaunch|https://www)\\.holzprofi24\\.de/[\\w-]+/((?!/).)*$')\n",
    "register_pattern = re.compile(r'(http://relaunch|https://www)\\.holzprofi24\\.de/register.*')"
   ]
  },
  {
   "cell_type": "markdown",
   "metadata": {},
   "source": [
    "### Define function"
   ]
  },
  {
   "cell_type": "code",
   "execution_count": 5,
   "metadata": {},
   "outputs": [],
   "source": [
    "def _url_mapping_func(row):\n",
    "    if bool(rechnung_pattern.match(row['uri'])):\n",
    "        return('rechnung')\n",
    "    elif bool(note_pattern.match(row['uri'])):\n",
    "        return('notes')\n",
    "    elif bool(acc_pattern.match(row['uri'])):\n",
    "        return('account')\n",
    "    elif bool(checkout_pattern.match(row['uri'])):\n",
    "        return('checkout')\n",
    "    elif bool(search_pattern.match(row['uri'])):\n",
    "        return('search')\n",
    "    elif bool(register_pattern.match(row['uri'])):\n",
    "        return('register')\n",
    "    elif bool(product_pattern.match(row['uri'])):\n",
    "        return('product')\n",
    "    elif bool(home_pattern.match(row['uri'])):\n",
    "        return('home')\n",
    "    elif bool(payment_pattern.match(row['uri'])):\n",
    "        return('payment')\n",
    "    elif bool(cat1_pattern.match(row['uri'])):\n",
    "        return('cat1')\n",
    "    elif bool(marken_pattern.match(row['uri'])):\n",
    "        return('marken')\n",
    "    elif bool(cat2_pattern.match(row['uri'])):\n",
    "        return('cat2')\n",
    "    elif bool(cat3_pattern.match(row['uri'])):\n",
    "        return('cat3')\n",
    "    elif bool(info_pattern.match(row['uri'])):\n",
    "        return('info')\n",
    "    else:\n",
    "        return('not assigned')"
   ]
  },
  {
   "cell_type": "code",
   "execution_count": null,
   "metadata": {},
   "outputs": [],
   "source": [
    "df_out['page_cat']= df_out.apply(_url_mapping_func, axis=1)"
   ]
  },
  {
   "cell_type": "markdown",
   "metadata": {},
   "source": [
    "### Testing"
   ]
  },
  {
   "cell_type": "code",
   "execution_count": 3,
   "metadata": {},
   "outputs": [],
   "source": [
    "website = 'https://www.holzprofi24.de/'"
   ]
  },
  {
   "cell_type": "code",
   "execution_count": 4,
   "metadata": {},
   "outputs": [],
   "source": [
    "website10 = 'https://www.holzprofi24.de/#rechnung'"
   ]
  },
  {
   "cell_type": "code",
   "execution_count": 5,
   "metadata": {},
   "outputs": [],
   "source": [
    "website1 = 'https://www.holzprofi24.de/terrassenbelag/asfd%q23t#sadf'"
   ]
  },
  {
   "cell_type": "code",
   "execution_count": 31,
   "metadata": {},
   "outputs": [],
   "source": [
    "website2 = 'https://www.holzprofi24.de/wand-und-decke/abschlussleisten/agadg'"
   ]
  },
  {
   "cell_type": "code",
   "execution_count": 7,
   "metadata": {},
   "outputs": [],
   "source": [
    "website3 = 'https://www.holzprofi24.de/terrassenbelag/terrassendielen/?p=1&o=name%2Fasc&n=24&ffFilter%5BMaterial%5D=WPC%20%2F%20BPC '"
   ]
  },
  {
   "cell_type": "code",
   "execution_count": 8,
   "metadata": {},
   "outputs": [],
   "source": [
    "website11= 'https://www.holzprofi24.de/terrassenbelag/terrassendielen/wpc-bpc-dielen/?p=1&o=2&n=24&ffFilter%5BFarbton%5D=mittel'"
   ]
  },
  {
   "cell_type": "code",
   "execution_count": 9,
   "metadata": {},
   "outputs": [],
   "source": [
    "website4= 'https://www.holzprofi24.de/gartenhaus-geraetehaus-harburg-3-eco-19-mm-naturbelassen-ka5341'"
   ]
  },
  {
   "cell_type": "code",
   "execution_count": 10,
   "metadata": {},
   "outputs": [],
   "source": [
    "website5= 'https://www.holzprofi24.de/sichtschutzzaun-kiefer-kdi-braun-731158'"
   ]
  },
  {
   "cell_type": "code",
   "execution_count": 11,
   "metadata": {},
   "outputs": [],
   "source": [
    "website6= 'https://www.holzprofi24.de/note'"
   ]
  },
  {
   "cell_type": "code",
   "execution_count": 12,
   "metadata": {},
   "outputs": [],
   "source": [
    "website7= 'https://www.holzprofi24.de/checkout/cart'"
   ]
  },
  {
   "cell_type": "code",
   "execution_count": 13,
   "metadata": {},
   "outputs": [],
   "source": [
    "website8= 'https://www.holzprofi24.de/bodenbelaege/vinylboden/'"
   ]
  },
  {
   "cell_type": "code",
   "execution_count": 14,
   "metadata": {},
   "outputs": [],
   "source": [
    "website9= 'https://www.holzprofi24.de/terrassenbelag/terrassendielen/wpc-bpc-dielen/adgafafdad'"
   ]
  },
  {
   "cell_type": "code",
   "execution_count": 4,
   "metadata": {},
   "outputs": [],
   "source": [
    "website12= 'https://www.holzprofi24.de/terrassenbelag/terrassendielen/wpc-bpc-dielen/'"
   ]
  },
  {
   "cell_type": "code",
   "execution_count": 28,
   "metadata": {},
   "outputs": [],
   "source": [
    "website13= 'https://www.holzprofi24.de/bodenbelaege/vinylboden/asdfaf/'"
   ]
  },
  {
   "cell_type": "code",
   "execution_count": 29,
   "metadata": {},
   "outputs": [
    {
     "data": {
      "text/plain": [
       "False"
      ]
     },
     "execution_count": 29,
     "metadata": {},
     "output_type": "execute_result"
    }
   ],
   "source": [
    "bool(advisor1_pattern.match(website13))"
   ]
  },
  {
   "cell_type": "code",
   "execution_count": 32,
   "metadata": {},
   "outputs": [
    {
     "data": {
      "text/plain": [
       "True"
      ]
     },
     "execution_count": 32,
     "metadata": {},
     "output_type": "execute_result"
    }
   ],
   "source": [
    "bool(home_pattern.match(website))"
   ]
  },
  {
   "cell_type": "code",
   "execution_count": 38,
   "metadata": {},
   "outputs": [
    {
     "data": {
      "text/plain": [
       "True"
      ]
     },
     "execution_count": 38,
     "metadata": {},
     "output_type": "execute_result"
    }
   ],
   "source": [
    "bool(cat1_pattern.match(website1))"
   ]
  },
  {
   "cell_type": "code",
   "execution_count": 32,
   "metadata": {},
   "outputs": [
    {
     "data": {
      "text/plain": [
       "True"
      ]
     },
     "execution_count": 32,
     "metadata": {},
     "output_type": "execute_result"
    }
   ],
   "source": [
    "bool(cat2_pattern.match(website2))"
   ]
  },
  {
   "cell_type": "code",
   "execution_count": 21,
   "metadata": {},
   "outputs": [
    {
     "data": {
      "text/plain": [
       "True"
      ]
     },
     "execution_count": 21,
     "metadata": {},
     "output_type": "execute_result"
    }
   ],
   "source": [
    "bool(filter_pattern.match(website11))"
   ]
  },
  {
   "cell_type": "code",
   "execution_count": 78,
   "metadata": {},
   "outputs": [
    {
     "data": {
      "text/plain": [
       "True"
      ]
     },
     "execution_count": 78,
     "metadata": {},
     "output_type": "execute_result"
    }
   ],
   "source": [
    "bool(product_pattern.match(website4))"
   ]
  },
  {
   "cell_type": "code",
   "execution_count": 79,
   "metadata": {},
   "outputs": [
    {
     "data": {
      "text/plain": [
       "True"
      ]
     },
     "execution_count": 79,
     "metadata": {},
     "output_type": "execute_result"
    }
   ],
   "source": [
    "bool(info_pattern.match(website6))"
   ]
  },
  {
   "cell_type": "code",
   "execution_count": 80,
   "metadata": {},
   "outputs": [
    {
     "data": {
      "text/plain": [
       "True"
      ]
     },
     "execution_count": 80,
     "metadata": {},
     "output_type": "execute_result"
    }
   ],
   "source": [
    "bool(note_acc_pattern.match(website6))"
   ]
  },
  {
   "cell_type": "code",
   "execution_count": 82,
   "metadata": {},
   "outputs": [
    {
     "data": {
      "text/plain": [
       "True"
      ]
     },
     "execution_count": 82,
     "metadata": {},
     "output_type": "execute_result"
    }
   ],
   "source": [
    "bool(checkout_pattern.match(website7))"
   ]
  },
  {
   "cell_type": "code",
   "execution_count": 83,
   "metadata": {},
   "outputs": [
    {
     "data": {
      "text/plain": [
       "True"
      ]
     },
     "execution_count": 83,
     "metadata": {},
     "output_type": "execute_result"
    }
   ],
   "source": [
    "bool(vinylboden_pattern.match(website8))"
   ]
  },
  {
   "cell_type": "code",
   "execution_count": 86,
   "metadata": {},
   "outputs": [
    {
     "data": {
      "text/plain": [
       "True"
      ]
     },
     "execution_count": 86,
     "metadata": {},
     "output_type": "execute_result"
    }
   ],
   "source": [
    "bool(cat3_pattern.match(website9))"
   ]
  },
  {
   "cell_type": "code",
   "execution_count": 7,
   "metadata": {},
   "outputs": [
    {
     "data": {
      "text/plain": [
       "False"
      ]
     },
     "execution_count": 7,
     "metadata": {},
     "output_type": "execute_result"
    }
   ],
   "source": [
    "bool(rechnung_pattern.match(website9))"
   ]
  },
  {
   "cell_type": "code",
   "execution_count": 7,
   "metadata": {},
   "outputs": [
    {
     "data": {
      "text/plain": [
       "False"
      ]
     },
     "execution_count": 7,
     "metadata": {},
     "output_type": "execute_result"
    }
   ],
   "source": [
    "bool(advisor1_pattern.match(website12))"
   ]
  },
  {
   "cell_type": "code",
   "execution_count": null,
   "metadata": {},
   "outputs": [],
   "source": []
  }
 ],
 "metadata": {
  "kernelspec": {
   "display_name": "Python 3",
   "language": "python",
   "name": "python3"
  },
  "language_info": {
   "codemirror_mode": {
    "name": "ipython",
    "version": 3
   },
   "file_extension": ".py",
   "mimetype": "text/x-python",
   "name": "python",
   "nbconvert_exporter": "python",
   "pygments_lexer": "ipython3",
   "version": "3.6.5"
  }
 },
 "nbformat": 4,
 "nbformat_minor": 2
}
