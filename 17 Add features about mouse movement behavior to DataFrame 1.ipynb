{
 "cells": [
  {
   "cell_type": "code",
   "execution_count": 1,
   "metadata": {},
   "outputs": [],
   "source": [
    "import pandas as pd\n",
    "import numpy as np\n",
    "import os\n",
    "from datetime import datetime\n",
    "import re\n",
    "import matplotlib.pyplot as plt"
   ]
  },
  {
   "cell_type": "code",
   "execution_count": 2,
   "metadata": {},
   "outputs": [],
   "source": [
    "from IPython.display import display"
   ]
  },
  {
   "cell_type": "code",
   "execution_count": 3,
   "metadata": {},
   "outputs": [],
   "source": [
    "pd.options.display.max_columns = None\n",
    "pd.options.display.max_rows = 100"
   ]
  },
  {
   "cell_type": "code",
   "execution_count": 4,
   "metadata": {},
   "outputs": [
    {
     "data": {
      "text/plain": [
       "<Figure size 640x480 with 0 Axes>"
      ]
     },
     "execution_count": 4,
     "metadata": {},
     "output_type": "execute_result"
    },
    {
     "data": {
      "text/plain": [
       "<Figure size 640x480 with 0 Axes>"
      ]
     },
     "metadata": {},
     "output_type": "display_data"
    }
   ],
   "source": [
    "from matplotlib.pyplot import figure\n",
    "figure(num=None, figsize=(8, 6), dpi=80, facecolor='w', edgecolor='k')"
   ]
  },
  {
   "cell_type": "markdown",
   "metadata": {},
   "source": [
    "### Load HDF5 file from working directory "
   ]
  },
  {
   "cell_type": "code",
   "execution_count": 5,
   "metadata": {},
   "outputs": [],
   "source": [
    "os.chdir(r'C:\\Users\\Sellit\\Desktop\\BA_Coding\\Data\\1final_out')"
   ]
  },
  {
   "cell_type": "code",
   "execution_count": 6,
   "metadata": {},
   "outputs": [
    {
     "name": "stdout",
     "output_type": "stream",
     "text": [
      "0:00:02.124550\n"
     ]
    }
   ],
   "source": [
    "start4=datetime.now()\n",
    "\n",
    "df_out = pd.read_hdf('DataFrame_1_df_out.h5', 'df_out')\n",
    "\n",
    "end4 = datetime.now()\n",
    "print(end4 - start4)"
   ]
  },
  {
   "cell_type": "markdown",
   "metadata": {},
   "source": [
    "#### only first 5 pages"
   ]
  },
  {
   "cell_type": "code",
   "execution_count": 7,
   "metadata": {},
   "outputs": [],
   "source": [
    "df_out = df_out.groupby('session_id').head(5)"
   ]
  },
  {
   "cell_type": "code",
   "execution_count": 8,
   "metadata": {},
   "outputs": [],
   "source": [
    "df_out_head = df_out.groupby('session_id').head(1)"
   ]
  },
  {
   "cell_type": "markdown",
   "metadata": {},
   "source": [
    "### Check out dataframe"
   ]
  },
  {
   "cell_type": "code",
   "execution_count": 9,
   "metadata": {},
   "outputs": [],
   "source": [
    "df_out = df_out.reset_index(drop=True)"
   ]
  },
  {
   "cell_type": "code",
   "execution_count": 10,
   "metadata": {},
   "outputs": [],
   "source": [
    "num_of_sessions = df_out['session_id'].nunique()"
   ]
  },
  {
   "cell_type": "code",
   "execution_count": 11,
   "metadata": {},
   "outputs": [
    {
     "data": {
      "text/plain": [
       "9760"
      ]
     },
     "execution_count": 11,
     "metadata": {},
     "output_type": "execute_result"
    }
   ],
   "source": [
    "num_of_sessions"
   ]
  },
  {
   "cell_type": "code",
   "execution_count": 12,
   "metadata": {
    "scrolled": true
   },
   "outputs": [
    {
     "name": "stdout",
     "output_type": "stream",
     "text": [
      "<class 'pandas.core.frame.DataFrame'>\n",
      "RangeIndex: 48800 entries, 0 to 48799\n",
      "Data columns (total 44 columns):\n",
      "idx                        48800 non-null int32\n",
      "purchase                   48800 non-null bool\n",
      "session_id                 48800 non-null object\n",
      "num_pages                  48800 non-null int64\n",
      "created                    48800 non-null datetime64[ns]\n",
      "lastActivity               48800 non-null datetime64[ns]\n",
      "startTime                  48800 non-null datetime64[ns]\n",
      "endTime                    48800 non-null datetime64[ns]\n",
      "engagementTime             48800 non-null float64\n",
      "visitTime                  48800 non-null float64\n",
      "total_engagementTime       48800 non-null float64\n",
      "duration                   48800 non-null float64\n",
      "page_cat                   48800 non-null object\n",
      "scroll                     48800 non-null float64\n",
      "uri                        48800 non-null object\n",
      "websitePage                48800 non-null object\n",
      "ref_gen                    31015 non-null object\n",
      "page_id                    48800 non-null object\n",
      "tags1                      48800 non-null object\n",
      "title                      48800 non-null object\n",
      "country                    48800 non-null object\n",
      "region                     48800 non-null object\n",
      "city                       48800 non-null object\n",
      "isp                        48800 non-null object\n",
      "ip                         48800 non-null object\n",
      "lang                       48800 non-null object\n",
      "userAgent                  48800 non-null object\n",
      "browser                    48800 non-null object\n",
      "browserVersion             48800 non-null object\n",
      "os                         48800 non-null object\n",
      "osVersion                  48800 non-null object\n",
      "device                     48800 non-null object\n",
      "referrer                   48800 non-null object\n",
      "referrerType               48800 non-null object\n",
      "first_5_pages              9760 non-null object\n",
      "screenRes                  48800 non-null object\n",
      "tags2                      48800 non-null object\n",
      "variables                  48800 non-null object\n",
      "lng                        48800 non-null object\n",
      "lat                        48800 non-null object\n",
      "annotations                48800 non-null object\n",
      "before_checkout            48800 non-null bool\n",
      "match                      48800 non-null bool\n",
      "no_checkout_infirstrows    48800 non-null bool\n",
      "dtypes: bool(4), datetime64[ns](4), float64(5), int32(1), int64(1), object(29)\n",
      "memory usage: 14.9+ MB\n"
     ]
    }
   ],
   "source": [
    "df_out.info()"
   ]
  },
  {
   "cell_type": "markdown",
   "metadata": {},
   "source": [
    "### Add features about mouse movement behavior"
   ]
  },
  {
   "cell_type": "markdown",
   "metadata": {},
   "source": [
    "#### Load DataFrame 2"
   ]
  },
  {
   "cell_type": "code",
   "execution_count": 13,
   "metadata": {},
   "outputs": [
    {
     "name": "stdout",
     "output_type": "stream",
     "text": [
      "0:00:09.889081\n"
     ]
    }
   ],
   "source": [
    "start4=datetime.now()\n",
    "\n",
    "df_purch = pd.read_hdf('for_further_purchases_5_pages_df.h5', 'df')\n",
    "\n",
    "end4 = datetime.now()\n",
    "print(end4 - start4)"
   ]
  },
  {
   "cell_type": "code",
   "execution_count": 14,
   "metadata": {},
   "outputs": [
    {
     "name": "stdout",
     "output_type": "stream",
     "text": [
      "0:00:27.314937\n"
     ]
    }
   ],
   "source": [
    "start4=datetime.now()\n",
    "\n",
    "df_nonpurch = pd.read_hdf('for_further_nonpurchases_5_pages_df.h5', 'df')\n",
    "\n",
    "end4 = datetime.now()\n",
    "print(end4 - start4)"
   ]
  },
  {
   "cell_type": "markdown",
   "metadata": {},
   "source": [
    "##### Merge purchase and Non-Purchase Sessions"
   ]
  },
  {
   "cell_type": "code",
   "execution_count": 15,
   "metadata": {},
   "outputs": [],
   "source": [
    "df_purch['purchase'] = True\n",
    "df_nonpurch['purchase'] = False"
   ]
  },
  {
   "cell_type": "code",
   "execution_count": 16,
   "metadata": {},
   "outputs": [
    {
     "name": "stderr",
     "output_type": "stream",
     "text": [
      "C:\\Users\\Sellit\\Anaconda3\\lib\\site-packages\\pandas\\core\\frame.py:6201: FutureWarning: Sorting because non-concatenation axis is not aligned. A future version\n",
      "of pandas will change to not sort by default.\n",
      "\n",
      "To accept the future behavior, pass 'sort=True'.\n",
      "\n",
      "To retain the current behavior and silence the warning, pass sort=False\n",
      "\n",
      "  sort=sort)\n"
     ]
    }
   ],
   "source": [
    "df = df_purch.append(df_nonpurch, ignore_index=True)"
   ]
  },
  {
   "cell_type": "markdown",
   "metadata": {},
   "source": [
    "#### Load DataFrame 3"
   ]
  },
  {
   "cell_type": "code",
   "execution_count": 17,
   "metadata": {},
   "outputs": [
    {
     "name": "stdout",
     "output_type": "stream",
     "text": [
      "0:00:00.362267\n"
     ]
    }
   ],
   "source": [
    "start4=datetime.now()\n",
    "\n",
    "df_purch = pd.read_hdf('purchases_5_pages_for_merge_df.h5', 'df')\n",
    "\n",
    "end4 = datetime.now()\n",
    "print(end4 - start4)"
   ]
  },
  {
   "cell_type": "code",
   "execution_count": 18,
   "metadata": {},
   "outputs": [
    {
     "name": "stdout",
     "output_type": "stream",
     "text": [
      "0:00:01.085086\n"
     ]
    }
   ],
   "source": [
    "start4=datetime.now()\n",
    "\n",
    "df_nonpurch = pd.read_hdf('nonpurchases_5_pages_for_merge_df.h5', 'df')\n",
    "\n",
    "end4 = datetime.now()\n",
    "print(end4 - start4)"
   ]
  },
  {
   "cell_type": "markdown",
   "metadata": {},
   "source": [
    "##### Merge purchase and Non-Purchase Sessions"
   ]
  },
  {
   "cell_type": "code",
   "execution_count": 19,
   "metadata": {},
   "outputs": [],
   "source": [
    "df_purch['purchase'] = True\n",
    "df_nonpurch['purchase'] = False"
   ]
  },
  {
   "cell_type": "code",
   "execution_count": 20,
   "metadata": {},
   "outputs": [
    {
     "name": "stderr",
     "output_type": "stream",
     "text": [
      "C:\\Users\\Sellit\\Anaconda3\\lib\\site-packages\\pandas\\core\\frame.py:6201: FutureWarning: Sorting because non-concatenation axis is not aligned. A future version\n",
      "of pandas will change to not sort by default.\n",
      "\n",
      "To accept the future behavior, pass 'sort=True'.\n",
      "\n",
      "To retain the current behavior and silence the warning, pass sort=False\n",
      "\n",
      "  sort=sort)\n"
     ]
    }
   ],
   "source": [
    "df2 = df_purch.append(df_nonpurch, ignore_index=True)"
   ]
  },
  {
   "cell_type": "markdown",
   "metadata": {},
   "source": [
    "### Merge all three DataFrames"
   ]
  },
  {
   "cell_type": "code",
   "execution_count": 21,
   "metadata": {},
   "outputs": [],
   "source": [
    "# first row of every page of DataFrame 2\n",
    "df_head = df.groupby(['id', 'startTime']).head(1)"
   ]
  },
  {
   "cell_type": "code",
   "execution_count": 22,
   "metadata": {},
   "outputs": [],
   "source": [
    "df_out2 = pd.merge(df_out, df_head[['id', 'startTime','mean_velocity', 'dist_on_page', 'time_no_movement']],left_on=['session_id', 'startTime'],right_on=['id', 'startTime'], how='left')"
   ]
  },
  {
   "cell_type": "code",
   "execution_count": 23,
   "metadata": {},
   "outputs": [],
   "source": [
    "list_col1 = list(df2.columns[pd.Series(df2.columns).str.endswith('time_on_oject_aggregated')])\n",
    "list_col2 = list(df2.columns[pd.Series(df2.columns).str.endswith('id')])\n",
    "\n",
    "list_col1.extend(list_col2)"
   ]
  },
  {
   "cell_type": "code",
   "execution_count": 24,
   "metadata": {},
   "outputs": [],
   "source": [
    "df_out3 = pd.merge(df_out2, df2[list_col1],left_on=['session_id'],right_on=['id'], how='left')"
   ]
  },
  {
   "cell_type": "code",
   "execution_count": 25,
   "metadata": {},
   "outputs": [],
   "source": [
    "del df_out3['id_x']\n",
    "del df_out3['id_y']"
   ]
  },
  {
   "cell_type": "markdown",
   "metadata": {},
   "source": [
    "### Drop sessions that have a checkout in first five rows"
   ]
  },
  {
   "cell_type": "code",
   "execution_count": 26,
   "metadata": {},
   "outputs": [],
   "source": [
    "df_out4 = df_out3.drop(df_out3[(df_out3['no_checkout_infirstrows'] == False)].index)"
   ]
  },
  {
   "cell_type": "markdown",
   "metadata": {},
   "source": [
    "### Write file and save it to working directory"
   ]
  },
  {
   "cell_type": "code",
   "execution_count": 29,
   "metadata": {},
   "outputs": [
    {
     "name": "stderr",
     "output_type": "stream",
     "text": [
      "C:\\Users\\Sellit\\Anaconda3\\lib\\site-packages\\pandas\\core\\generic.py:1993: PerformanceWarning: \n",
      "your performance may suffer as PyTables will pickle object types that it cannot\n",
      "map directly to c-types [inferred_type->mixed,key->block5_values] [items->['session_id', 'page_cat', 'uri', 'websitePage', 'ref_gen', 'page_id', 'tags1', 'title', 'country', 'region', 'city', 'isp', 'ip', 'lang', 'userAgent', 'browser', 'browserVersion', 'os', 'osVersion', 'device', 'referrer', 'referrerType', 'first_5_pages', 'screenRes', 'tags2', 'variables', 'lng', 'lat', 'annotations']]\n",
      "\n",
      "  return pytables.to_hdf(path_or_buf, key, self, **kwargs)\n"
     ]
    },
    {
     "name": "stdout",
     "output_type": "stream",
     "text": [
      "0:00:00.817091\n"
     ]
    }
   ],
   "source": [
    "start2=datetime.now()\n",
    "\n",
    "df_out4.to_hdf('DataFrame_1_five_pages_df_out.h5', 'df_out', mode='w')\n",
    "\n",
    "end2 = datetime.now()\n",
    "print(end2 - start2)"
   ]
  }
 ],
 "metadata": {
  "kernelspec": {
   "display_name": "Python 3",
   "language": "python",
   "name": "python3"
  },
  "language_info": {
   "codemirror_mode": {
    "name": "ipython",
    "version": 3
   },
   "file_extension": ".py",
   "mimetype": "text/x-python",
   "name": "python",
   "nbconvert_exporter": "python",
   "pygments_lexer": "ipython3",
   "version": "3.6.5"
  }
 },
 "nbformat": 4,
 "nbformat_minor": 2
}
