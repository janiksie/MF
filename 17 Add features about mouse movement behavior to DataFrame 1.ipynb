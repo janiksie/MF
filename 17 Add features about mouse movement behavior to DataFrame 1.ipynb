{
 "cells": [
  {
   "cell_type": "code",
   "execution_count": 68,
   "metadata": {},
   "outputs": [],
   "source": [
    "import pandas as pd\n",
    "import numpy as np\n",
    "import os\n",
    "from datetime import datetime\n",
    "import re\n",
    "import matplotlib.pyplot as plt"
   ]
  },
  {
   "cell_type": "code",
   "execution_count": 69,
   "metadata": {},
   "outputs": [],
   "source": [
    "from IPython.display import display"
   ]
  },
  {
   "cell_type": "code",
   "execution_count": 70,
   "metadata": {},
   "outputs": [],
   "source": [
    "pd.options.display.max_columns = None\n",
    "pd.options.display.max_rows = 100"
   ]
  },
  {
   "cell_type": "markdown",
   "metadata": {},
   "source": [
    "### Load HDF5 file from working directory "
   ]
  },
  {
   "cell_type": "code",
   "execution_count": 71,
   "metadata": {},
   "outputs": [],
   "source": [
    "os.chdir(r'C:\\Users\\Sellit\\Desktop\\BA_Coding\\Data\\1final_out')"
   ]
  },
  {
   "cell_type": "code",
   "execution_count": 72,
   "metadata": {},
   "outputs": [
    {
     "name": "stdout",
     "output_type": "stream",
     "text": [
      "0:00:04.325028\n"
     ]
    }
   ],
   "source": [
    "start4=datetime.now()\n",
    "\n",
    "df_out = pd.read_hdf('DataFrame_1_df_out.h5', 'df_out')\n",
    "\n",
    "end4 = datetime.now()\n",
    "print(end4 - start4)"
   ]
  },
  {
   "cell_type": "markdown",
   "metadata": {},
   "source": [
    "#### only first 5 pages"
   ]
  },
  {
   "cell_type": "code",
   "execution_count": 73,
   "metadata": {},
   "outputs": [],
   "source": [
    "df_out = df_out.groupby('session_id').head(5)"
   ]
  },
  {
   "cell_type": "markdown",
   "metadata": {},
   "source": [
    "### Check out dataframe"
   ]
  },
  {
   "cell_type": "code",
   "execution_count": 74,
   "metadata": {},
   "outputs": [],
   "source": [
    "df_out = df_out.reset_index(drop=True)"
   ]
  },
  {
   "cell_type": "code",
   "execution_count": 75,
   "metadata": {
    "scrolled": true
   },
   "outputs": [
    {
     "name": "stdout",
     "output_type": "stream",
     "text": [
      "<class 'pandas.core.frame.DataFrame'>\n",
      "RangeIndex: 48800 entries, 0 to 48799\n",
      "Data columns (total 44 columns):\n",
      "idx                        48800 non-null int32\n",
      "purchase                   48800 non-null bool\n",
      "session_id                 48800 non-null object\n",
      "num_pages                  48800 non-null int64\n",
      "created                    48800 non-null datetime64[ns]\n",
      "lastActivity               48800 non-null datetime64[ns]\n",
      "startTime                  48800 non-null datetime64[ns]\n",
      "endTime                    48800 non-null datetime64[ns]\n",
      "engagementTime             48800 non-null float64\n",
      "visitTime                  48800 non-null float64\n",
      "total_engagementTime       48800 non-null float64\n",
      "duration                   48800 non-null float64\n",
      "page_cat                   48800 non-null object\n",
      "scroll                     48800 non-null float64\n",
      "uri                        48800 non-null object\n",
      "websitePage                48800 non-null object\n",
      "ref_gen                    31015 non-null object\n",
      "page_id                    48800 non-null object\n",
      "tags1                      48800 non-null object\n",
      "title                      48800 non-null object\n",
      "country                    48800 non-null object\n",
      "region                     48800 non-null object\n",
      "city                       48800 non-null object\n",
      "isp                        48800 non-null object\n",
      "ip                         48800 non-null object\n",
      "lang                       48800 non-null object\n",
      "userAgent                  48800 non-null object\n",
      "browser                    48800 non-null object\n",
      "browserVersion             48800 non-null object\n",
      "os                         48800 non-null object\n",
      "osVersion                  48800 non-null object\n",
      "device                     48800 non-null object\n",
      "referrer                   48800 non-null object\n",
      "referrerType               48800 non-null object\n",
      "first_5_pages              9760 non-null object\n",
      "screenRes                  48800 non-null object\n",
      "tags2                      48800 non-null object\n",
      "variables                  48800 non-null object\n",
      "lng                        48800 non-null object\n",
      "lat                        48800 non-null object\n",
      "annotations                48800 non-null object\n",
      "before_checkout            48800 non-null bool\n",
      "match                      48800 non-null bool\n",
      "no_checkout_infirstrows    48800 non-null bool\n",
      "dtypes: bool(4), datetime64[ns](4), float64(5), int32(1), int64(1), object(29)\n",
      "memory usage: 14.9+ MB\n"
     ]
    }
   ],
   "source": [
    "df_out.info()"
   ]
  },
  {
   "cell_type": "markdown",
   "metadata": {},
   "source": [
    "### Add features about mouse movement behavior"
   ]
  },
  {
   "cell_type": "markdown",
   "metadata": {},
   "source": [
    "#### Load DataFrame 2"
   ]
  },
  {
   "cell_type": "code",
   "execution_count": 76,
   "metadata": {},
   "outputs": [
    {
     "name": "stdout",
     "output_type": "stream",
     "text": [
      "0:00:09.626721\n"
     ]
    }
   ],
   "source": [
    "start4=datetime.now()\n",
    "\n",
    "df_purch = pd.read_hdf('df2_for_merge_purchases_5_pages_df.h5', 'df')\n",
    "\n",
    "end4 = datetime.now()\n",
    "print(end4 - start4)"
   ]
  },
  {
   "cell_type": "code",
   "execution_count": 77,
   "metadata": {},
   "outputs": [
    {
     "name": "stdout",
     "output_type": "stream",
     "text": [
      "0:00:35.115068\n"
     ]
    }
   ],
   "source": [
    "start4=datetime.now()\n",
    "\n",
    "df_nonpurch = pd.read_hdf('df2_for_merge_nonpurchases_5_pages_df.h5', 'df')\n",
    "\n",
    "end4 = datetime.now()\n",
    "print(end4 - start4)"
   ]
  },
  {
   "cell_type": "markdown",
   "metadata": {},
   "source": [
    "##### Merge purchase and Non-Purchase Sessions"
   ]
  },
  {
   "cell_type": "code",
   "execution_count": 78,
   "metadata": {},
   "outputs": [],
   "source": [
    "df_purch['purchase'] = True\n",
    "df_nonpurch['purchase'] = False"
   ]
  },
  {
   "cell_type": "code",
   "execution_count": 79,
   "metadata": {},
   "outputs": [
    {
     "name": "stderr",
     "output_type": "stream",
     "text": [
      "C:\\Users\\Sellit\\Anaconda3\\lib\\site-packages\\pandas\\core\\frame.py:6201: FutureWarning: Sorting because non-concatenation axis is not aligned. A future version\n",
      "of pandas will change to not sort by default.\n",
      "\n",
      "To accept the future behavior, pass 'sort=True'.\n",
      "\n",
      "To retain the current behavior and silence the warning, pass sort=False\n",
      "\n",
      "  sort=sort)\n"
     ]
    }
   ],
   "source": [
    "df2 = df_purch.append(df_nonpurch, ignore_index=True)"
   ]
  },
  {
   "cell_type": "code",
   "execution_count": 80,
   "metadata": {},
   "outputs": [],
   "source": [
    "# first row of every page of DataFrame 2\n",
    "df2_head = df2.groupby(['id', 'startTime']).head(1)"
   ]
  },
  {
   "cell_type": "code",
   "execution_count": 81,
   "metadata": {},
   "outputs": [],
   "source": [
    "del df_purch\n",
    "del df_nonpurch\n",
    "del df2"
   ]
  },
  {
   "cell_type": "markdown",
   "metadata": {},
   "source": [
    "#### Load DataFrame 3"
   ]
  },
  {
   "cell_type": "code",
   "execution_count": 83,
   "metadata": {},
   "outputs": [
    {
     "name": "stdout",
     "output_type": "stream",
     "text": [
      "0:00:00.073796\n"
     ]
    }
   ],
   "source": [
    "start4=datetime.now()\n",
    "\n",
    "df3 = pd.read_hdf('DataFrame_3_for_merge_df.h5', 'df')\n",
    "\n",
    "end4 = datetime.now()\n",
    "print(end4 - start4)"
   ]
  },
  {
   "cell_type": "markdown",
   "metadata": {},
   "source": [
    "### Merge mean velocity, dist on page and time with no movement from DataFrame 2"
   ]
  },
  {
   "cell_type": "code",
   "execution_count": 84,
   "metadata": {},
   "outputs": [],
   "source": [
    "df_out2 = pd.merge(df_out, df2_head[['id', 'startTime','mean_velocity', 'dist_on_page', 'time_no_movement']],left_on=['session_id', 'startTime'],right_on=['id', 'startTime'], how='left')"
   ]
  },
  {
   "cell_type": "markdown",
   "metadata": {},
   "source": [
    "### Merge time on object aggregated from DataFrame 3"
   ]
  },
  {
   "cell_type": "code",
   "execution_count": 86,
   "metadata": {},
   "outputs": [],
   "source": [
    "list_col1 = list(df3.columns[pd.Series(df3.columns).str.endswith('time_on_oject_aggregated')])\n",
    "list_col2 = list(df3.columns[pd.Series(df3.columns).str.endswith('id')])\n",
    "\n",
    "list_col1.extend(list_col2)"
   ]
  },
  {
   "cell_type": "code",
   "execution_count": 87,
   "metadata": {},
   "outputs": [],
   "source": [
    "df_out3 = pd.merge(df_out2, df3[list_col1],left_on=['session_id'],right_on=['id'], how='left')"
   ]
  },
  {
   "cell_type": "code",
   "execution_count": 89,
   "metadata": {},
   "outputs": [],
   "source": [
    "del df_out3['id_x']\n",
    "del df_out3['id_y']"
   ]
  },
  {
   "cell_type": "markdown",
   "metadata": {},
   "source": [
    "### Drop sessions that have a checkout in first five rows"
   ]
  },
  {
   "cell_type": "code",
   "execution_count": 90,
   "metadata": {},
   "outputs": [],
   "source": [
    "df_out4 = df_out3.drop(df_out3[(df_out3['no_checkout_infirstrows'] == False)].index)"
   ]
  },
  {
   "cell_type": "markdown",
   "metadata": {},
   "source": [
    "### Write file and save it to working directory"
   ]
  },
  {
   "cell_type": "code",
   "execution_count": 91,
   "metadata": {
    "scrolled": true
   },
   "outputs": [
    {
     "name": "stderr",
     "output_type": "stream",
     "text": [
      "C:\\Users\\Sellit\\Anaconda3\\lib\\site-packages\\pandas\\core\\generic.py:1993: PerformanceWarning: \n",
      "your performance may suffer as PyTables will pickle object types that it cannot\n",
      "map directly to c-types [inferred_type->mixed,key->block5_values] [items->['session_id', 'page_cat', 'uri', 'websitePage', 'ref_gen', 'page_id', 'tags1', 'title', 'country', 'region', 'city', 'isp', 'ip', 'lang', 'userAgent', 'browser', 'browserVersion', 'os', 'osVersion', 'device', 'referrer', 'referrerType', 'first_5_pages', 'screenRes', 'tags2', 'variables', 'lng', 'lat', 'annotations']]\n",
      "\n",
      "  return pytables.to_hdf(path_or_buf, key, self, **kwargs)\n"
     ]
    },
    {
     "name": "stdout",
     "output_type": "stream",
     "text": [
      "0:00:00.605123\n"
     ]
    }
   ],
   "source": [
    "start2=datetime.now()\n",
    "\n",
    "df_out4.to_hdf('DataFrame_1_five_pages_df_out.h5', 'df_out', mode='w')\n",
    "\n",
    "end2 = datetime.now()\n",
    "print(end2 - start2)"
   ]
  }
 ],
 "metadata": {
  "kernelspec": {
   "display_name": "Python 3",
   "language": "python",
   "name": "python3"
  },
  "language_info": {
   "codemirror_mode": {
    "name": "ipython",
    "version": 3
   },
   "file_extension": ".py",
   "mimetype": "text/x-python",
   "name": "python",
   "nbconvert_exporter": "python",
   "pygments_lexer": "ipython3",
   "version": "3.6.5"
  }
 },
 "nbformat": 4,
 "nbformat_minor": 2
}
