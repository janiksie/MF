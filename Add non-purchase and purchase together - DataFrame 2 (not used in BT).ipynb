{
 "cells": [
  {
   "cell_type": "code",
   "execution_count": 1,
   "metadata": {},
   "outputs": [],
   "source": [
    "import pandas as pd\n",
    "import numpy as np\n",
    "import os\n",
    "from datetime import datetime\n",
    "import matplotlib.pyplot as pltb"
   ]
  },
  {
   "cell_type": "code",
   "execution_count": 2,
   "metadata": {},
   "outputs": [],
   "source": [
    "pd.options.display.max_columns = None\n",
    "pd.options.display.max_rows = 500\n",
    "pd.set_option('max_colwidth',40)"
   ]
  },
  {
   "cell_type": "markdown",
   "metadata": {},
   "source": [
    "##### This function was not used due to processing power limitations of the computer used for the Bachelorthesis. However the merge of purchase and non-purchase sessions should be done for further analysis after applying the constraints! \n",
    "\n",
    "\n",
    "."
   ]
  },
  {
   "cell_type": "markdown",
   "metadata": {},
   "source": [
    "### Load data frame"
   ]
  },
  {
   "cell_type": "code",
   "execution_count": 3,
   "metadata": {},
   "outputs": [],
   "source": [
    "os.chdir(r'C:\\Users\\Sellit\\Desktop\\BA_Coding\\Data\\1final_out')"
   ]
  },
  {
   "cell_type": "code",
   "execution_count": 17,
   "metadata": {},
   "outputs": [
    {
     "name": "stdout",
     "output_type": "stream",
     "text": [
      "0:00:11.308901\n"
     ]
    }
   ],
   "source": [
    "start4=datetime.now()\n",
    "\n",
    "df1= pd.read_hdf('utf_purchases_5_pages_df.h5', 'df')\n",
    "\n",
    "end4 = datetime.now()\n",
    "print(end4 - start4)"
   ]
  },
  {
   "cell_type": "code",
   "execution_count": 18,
   "metadata": {},
   "outputs": [
    {
     "name": "stdout",
     "output_type": "stream",
     "text": [
      "0:00:31.608576\n"
     ]
    }
   ],
   "source": [
    "start4=datetime.now()\n",
    "\n",
    "df2= pd.read_hdf('utf_NonPurchases_5_pages_df.h5', 'df')\n",
    "\n",
    "end4 = datetime.now()\n",
    "print(end4 - start4)"
   ]
  },
  {
   "cell_type": "markdown",
   "metadata": {},
   "source": [
    "### Merge DataFrames"
   ]
  },
  {
   "cell_type": "code",
   "execution_count": 19,
   "metadata": {},
   "outputs": [],
   "source": [
    "df1['purchase'] = True"
   ]
  },
  {
   "cell_type": "code",
   "execution_count": 20,
   "metadata": {},
   "outputs": [],
   "source": [
    "df2['purchase'] = False"
   ]
  },
  {
   "cell_type": "code",
   "execution_count": 24,
   "metadata": {},
   "outputs": [
    {
     "name": "stderr",
     "output_type": "stream",
     "text": [
      "C:\\Users\\Sellit\\Anaconda3\\lib\\site-packages\\pandas\\core\\frame.py:6201: FutureWarning: Sorting because non-concatenation axis is not aligned. A future version\n",
      "of pandas will change to not sort by default.\n",
      "\n",
      "To accept the future behavior, pass 'sort=True'.\n",
      "\n",
      "To retain the current behavior and silence the warning, pass sort=False\n",
      "\n",
      "  sort=sort)\n"
     ]
    }
   ],
   "source": [
    "df = df1.append([df2],ignore_index=True)"
   ]
  },
  {
   "cell_type": "code",
   "execution_count": 25,
   "metadata": {},
   "outputs": [],
   "source": [
    "del df1\n",
    "del df2"
   ]
  },
  {
   "cell_type": "markdown",
   "metadata": {},
   "source": [
    "### Apply constraint that first five pages cannot contain a checkout or payment page"
   ]
  },
  {
   "cell_type": "code",
   "execution_count": 28,
   "metadata": {},
   "outputs": [],
   "source": [
    "df['checkout_in_row'] = [True if i == 'checkout' else True if i == 'payment' else False for i in df['page_cat']]\n",
    "\n",
    "df['checkout_in_session'] = df.groupby(['id'])['checkout_in_row'].cumsum()\n",
    "df['checkout_in_session'] = df.groupby(['id'])['checkout_in_session'].transform('last')"
   ]
  },
  {
   "cell_type": "code",
   "execution_count": 37,
   "metadata": {},
   "outputs": [],
   "source": [
    "df = df[df['checkout_in_session']== 0]"
   ]
  },
  {
   "cell_type": "code",
   "execution_count": 39,
   "metadata": {},
   "outputs": [],
   "source": [
    "del df['checkout_in_row']\n",
    "del df['checkout_in_session']"
   ]
  },
  {
   "cell_type": "markdown",
   "metadata": {},
   "source": [
    "### Change order of columns"
   ]
  },
  {
   "cell_type": "code",
   "execution_count": 40,
   "metadata": {},
   "outputs": [
    {
     "data": {
      "text/plain": [
       "Index(['advisor', 'browser', 'country', 'created', 'dist_on_page', 'e',\n",
       "       'engagementTime1', 'entryPage', 'id', 'idx', 'lang', 'match_constraint',\n",
       "       'mean_velocity', 'os', 'osVersion', 'page_cat', 'pages', 'purchase',\n",
       "       'referrer', 'referrerType', 'startTime', 't', 'ta', 'ta_area_map',\n",
       "       'time_no_movement', 'ty', 'url', 'variables', 'viewportHeight',\n",
       "       'viewportWidth', 'visitTime', 'visitorId', 'websitePageUrl', 'x', 'y'],\n",
       "      dtype='object')"
      ]
     },
     "execution_count": 40,
     "metadata": {},
     "output_type": "execute_result"
    }
   ],
   "source": [
    "col = df.columns\n",
    "col"
   ]
  },
  {
   "cell_type": "code",
   "execution_count": 42,
   "metadata": {},
   "outputs": [
    {
     "data": {
      "text/plain": [
       "35"
      ]
     },
     "execution_count": 42,
     "metadata": {},
     "output_type": "execute_result"
    }
   ],
   "source": [
    "len(col)"
   ]
  },
  {
   "cell_type": "code",
   "execution_count": 50,
   "metadata": {},
   "outputs": [],
   "source": [
    "col1 = ['purchase', 'idx', 'id', 'pages', 'created', 'startTime', 'engagementTime1','visitTime',\n",
    "        'x', 'y', 't', 'e','ty', 'ta', 'ta_area_map', 'page_cat', 'url', 'websitePageUrl',\n",
    "        'mean_velocity', 'dist_on_page', 'time_no_movement',\n",
    "        'entryPage', 'referrer', 'referrerType',  'visitorId', 'advisor',\n",
    "        'viewportHeight', 'viewportWidth','lang', 'country', 'browser','os', 'osVersion',\n",
    "        'variables']"
   ]
  },
  {
   "cell_type": "code",
   "execution_count": 52,
   "metadata": {},
   "outputs": [],
   "source": [
    "df = df[col1]"
   ]
  },
  {
   "cell_type": "markdown",
   "metadata": {},
   "source": [
    "### Save to working directory"
   ]
  },
  {
   "cell_type": "code",
   "execution_count": 53,
   "metadata": {},
   "outputs": [
    {
     "name": "stderr",
     "output_type": "stream",
     "text": [
      "C:\\Users\\Sellit\\Anaconda3\\lib\\site-packages\\pandas\\core\\generic.py:1993: PerformanceWarning: \n",
      "your performance may suffer as PyTables will pickle object types that it cannot\n",
      "map directly to c-types [inferred_type->mixed-integer,key->block2_values] [items->['id', 'ty', 'ta', 'ta_area_map', 'page_cat', 'url', 'websitePageUrl', 'entryPage', 'referrer', 'referrerType', 'visitorId', 'advisor', 'lang', 'country', 'browser', 'os', 'osVersion', 'variables']]\n",
      "\n",
      "  return pytables.to_hdf(path_or_buf, key, self, **kwargs)\n"
     ]
    },
    {
     "name": "stdout",
     "output_type": "stream",
     "text": [
      "0:00:49.747002\n"
     ]
    }
   ],
   "source": [
    "start2=datetime.now()\n",
    "\n",
    "df.to_hdf('utf_all_sessions_5_pages_df.h5', 'df', mode='w')\n",
    "\n",
    "end2 = datetime.now()\n",
    "print(end2 - start2)"
   ]
  }
 ],
 "metadata": {
  "kernelspec": {
   "display_name": "Python 3",
   "language": "python",
   "name": "python3"
  },
  "language_info": {
   "codemirror_mode": {
    "name": "ipython",
    "version": 3
   },
   "file_extension": ".py",
   "mimetype": "text/x-python",
   "name": "python",
   "nbconvert_exporter": "python",
   "pygments_lexer": "ipython3",
   "version": "3.6.5"
  }
 },
 "nbformat": 4,
 "nbformat_minor": 2
}
