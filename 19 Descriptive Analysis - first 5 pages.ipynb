{
 "cells": [
  {
   "cell_type": "code",
   "execution_count": 1,
   "metadata": {},
   "outputs": [],
   "source": [
    "import pandas as pd\n",
    "import numpy as np\n",
    "import os\n",
    "from datetime import datetime\n",
    "import re\n",
    "import matplotlib.pyplot as plt"
   ]
  },
  {
   "cell_type": "code",
   "execution_count": 2,
   "metadata": {},
   "outputs": [],
   "source": [
    "from IPython.display import display"
   ]
  },
  {
   "cell_type": "code",
   "execution_count": 3,
   "metadata": {},
   "outputs": [],
   "source": [
    "pd.options.display.max_columns = None\n",
    "pd.options.display.max_rows = 100"
   ]
  },
  {
   "cell_type": "code",
   "execution_count": 4,
   "metadata": {},
   "outputs": [
    {
     "data": {
      "text/plain": [
       "<Figure size 640x480 with 0 Axes>"
      ]
     },
     "execution_count": 4,
     "metadata": {},
     "output_type": "execute_result"
    },
    {
     "data": {
      "text/plain": [
       "<Figure size 640x480 with 0 Axes>"
      ]
     },
     "metadata": {},
     "output_type": "display_data"
    }
   ],
   "source": [
    "from matplotlib.pyplot import figure\n",
    "figure(num=None, figsize=(8, 6), dpi=80, facecolor='w', edgecolor='k')"
   ]
  },
  {
   "cell_type": "markdown",
   "metadata": {},
   "source": [
    "### Load HDF5 file from working directory "
   ]
  },
  {
   "cell_type": "code",
   "execution_count": 5,
   "metadata": {},
   "outputs": [],
   "source": [
    "os.chdir(r'C:\\Users\\Sellit\\Desktop\\BA_Coding\\Data\\1final_out')"
   ]
  },
  {
   "cell_type": "markdown",
   "metadata": {},
   "source": [
    "#### DataFrame with checkout pages"
   ]
  },
  {
   "cell_type": "code",
   "execution_count": 6,
   "metadata": {},
   "outputs": [
    {
     "name": "stdout",
     "output_type": "stream",
     "text": [
      "0:00:01.935577\n"
     ]
    }
   ],
   "source": [
    "start4=datetime.now()\n",
    "\n",
    "df = pd.read_hdf('DataFrame_1_df_out.h5', 'df_out')\n",
    "\n",
    "end4 = datetime.now()\n",
    "print(end4 - start4)"
   ]
  },
  {
   "cell_type": "code",
   "execution_count": 7,
   "metadata": {},
   "outputs": [],
   "source": [
    "df = df.groupby('session_id').head(5)\n",
    "df = df.reset_index(drop=True)"
   ]
  },
  {
   "cell_type": "markdown",
   "metadata": {},
   "source": [
    "#### DataFrame without checkout pages"
   ]
  },
  {
   "cell_type": "code",
   "execution_count": 8,
   "metadata": {},
   "outputs": [
    {
     "name": "stdout",
     "output_type": "stream",
     "text": [
      "0:00:00.474915\n"
     ]
    }
   ],
   "source": [
    "start4=datetime.now()\n",
    "\n",
    "df_out = pd.read_hdf('DataFrame_1_five_pages_df_out.h5', 'df_out')\n",
    "\n",
    "end4 = datetime.now()\n",
    "print(end4 - start4)"
   ]
  },
  {
   "cell_type": "markdown",
   "metadata": {},
   "source": [
    "### Most common sequence of first five pages"
   ]
  },
  {
   "cell_type": "code",
   "execution_count": 9,
   "metadata": {},
   "outputs": [],
   "source": [
    "df_head = df.groupby('session_id').head(1)"
   ]
  },
  {
   "cell_type": "code",
   "execution_count": 10,
   "metadata": {},
   "outputs": [
    {
     "data": {
      "text/plain": [
       "first_5_pages\n",
       "product,checkout,checkout,checkout,checkout    0.077040\n",
       "product,product,product,product,product        0.039089\n",
       "product,product,checkout,checkout,checkout     0.023909\n",
       "product,product,product,product,checkout       0.015939\n",
       "product,product,product,checkout,checkout      0.014801\n",
       "product,checkout,payment,checkout,checkout     0.014801\n",
       "Name: session_id, dtype: float64"
      ]
     },
     "execution_count": 10,
     "metadata": {},
     "output_type": "execute_result"
    }
   ],
   "source": [
    "df_head[df_head['purchase']==True].groupby('first_5_pages')['session_id'].count().sort_values(ascending =False).nlargest(6)/df_head[df_head['purchase']==True].groupby('first_5_pages')['session_id'].count().sort_values(ascending =False).sum()"
   ]
  },
  {
   "cell_type": "code",
   "execution_count": 12,
   "metadata": {},
   "outputs": [
    {
     "data": {
      "text/plain": [
       "first_5_pages\n",
       "cat2,cat2,cat2,cat2,cat2                   0.052491\n",
       "product,product,product,product,product    0.048561\n",
       "cat2,product,cat2,product,cat2             0.023439\n",
       "cat2,cat2,product,cat2,cat2                0.017544\n",
       "cat3,cat3,cat3,cat3,cat3                   0.017263\n",
       "cat2,cat2,cat2,cat2,product                0.017263\n",
       "Name: session_id, dtype: float64"
      ]
     },
     "execution_count": 12,
     "metadata": {},
     "output_type": "execute_result"
    }
   ],
   "source": [
    "df_head[df_head['purchase']==False].groupby('first_5_pages')['session_id'].count().sort_values(ascending =False).nlargest(6)/df_head[df_head['purchase']==False].groupby('first_5_pages')['session_id'].count().sort_values(ascending =False).sum()"
   ]
  },
  {
   "cell_type": "markdown",
   "metadata": {},
   "source": [
    "### Compute how many pages per category are in one session on average"
   ]
  },
  {
   "cell_type": "code",
   "execution_count": 13,
   "metadata": {
    "scrolled": true
   },
   "outputs": [
    {
     "data": {
      "text/plain": [
       "1427"
      ]
     },
     "execution_count": 13,
     "metadata": {},
     "output_type": "execute_result"
    }
   ],
   "source": [
    "num_of_purch_sessions = df_out[df_out['purchase']==True]['session_id'].nunique()\n",
    "num_of_purch_sessions"
   ]
  },
  {
   "cell_type": "code",
   "execution_count": 14,
   "metadata": {},
   "outputs": [
    {
     "data": {
      "text/plain": [
       "6723"
      ]
     },
     "execution_count": 14,
     "metadata": {},
     "output_type": "execute_result"
    }
   ],
   "source": [
    "num_of_nonpurch_sessions = df_out[df_out['purchase']==False]['session_id'].nunique()\n",
    "num_of_nonpurch_sessions"
   ]
  },
  {
   "cell_type": "code",
   "execution_count": 15,
   "metadata": {},
   "outputs": [],
   "source": [
    "visits_per_cat_purch = df_out[df_out['purchase']==True]['page_cat'].value_counts() \n",
    "visits_per_cat_avg_purch = visits_per_cat_purch/num_of_purch_sessions"
   ]
  },
  {
   "cell_type": "code",
   "execution_count": 16,
   "metadata": {},
   "outputs": [],
   "source": [
    "visits_per_cat_nonpurch = df_out[df_out['purchase']==False]['page_cat'].value_counts() \n",
    "visits_per_cat_avg_nonpurch = visits_per_cat_nonpurch/num_of_nonpurch_sessions"
   ]
  },
  {
   "cell_type": "code",
   "execution_count": 21,
   "metadata": {
    "scrolled": false
   },
   "outputs": [
    {
     "data": {
      "text/plain": [
       "<Figure size 432x288 with 0 Axes>"
      ]
     },
     "metadata": {},
     "output_type": "display_data"
    },
    {
     "data": {
      "image/png": "[encoded data removed]",
      "text/plain": [
       "<Figure size 1080x360 with 2 Axes>"
      ]
     },
     "metadata": {},
     "output_type": "display_data"
    }
   ],
   "source": [
    "plt.subplots_adjust(wspace = 1)\n",
    "fig = plt.figure(figsize=(15,5))\n",
    "\n",
    "plt.suptitle('First five pages', y=1.)\n",
    "plt.subplot(1,2,1)\n",
    "visits_per_cat_avg_purch[:8].plot(kind = 'bar')\n",
    "plt.xlabel('Page category')\n",
    "plt.ylabel('Number of pages within first five pages on average')\n",
    "plt.title('Purchase Sessions')\n",
    "plt.ylim(0,2)\n",
    "\n",
    "plt.subplot(1,2,2)\n",
    "visits_per_cat_avg_nonpurch[:8].plot(kind = 'bar')\n",
    "plt.xlabel('Page category')\n",
    "plt.ylabel('Number of pages within first five pages on average')\n",
    "plt.title('Nonpurchase Sessions')\n",
    "plt.ylim(0,2)\n",
    "\n",
    "plt.show()"
   ]
  },
  {
   "cell_type": "markdown",
   "metadata": {},
   "source": [
    "### Calculate scroll per category"
   ]
  },
  {
   "cell_type": "code",
   "execution_count": 30,
   "metadata": {},
   "outputs": [],
   "source": [
    "def q25(x):\n",
    "    return x.quantile(0.25)\n",
    "\n",
    "def q75(x):\n",
    "    return x.quantile(0.75)"
   ]
  },
  {
   "cell_type": "code",
   "execution_count": 65,
   "metadata": {},
   "outputs": [],
   "source": [
    "scroll_per_cat_purch = df_out[df_out['purchase']==True].groupby('page_cat')['scroll'].agg(['mean', 'median'])\n",
    "scroll_per_cat_nonpurch = df_out[df_out['purchase']==False].groupby('page_cat')['scroll'].agg(['mean', 'median'])"
   ]
  },
  {
   "cell_type": "code",
   "execution_count": 66,
   "metadata": {},
   "outputs": [
    {
     "data": {
      "text/html": [
       "<div>\n",
       "<style scoped>\n",
       "    .dataframe tbody tr th:only-of-type {\n",
       "        vertical-align: middle;\n",
       "    }\n",
       "\n",
       "    .dataframe tbody tr th {\n",
       "        vertical-align: top;\n",
       "    }\n",
       "\n",
       "    .dataframe thead th {\n",
       "        text-align: right;\n",
       "    }\n",
       "</style>\n",
       "<table border=\"1\" class=\"dataframe\">\n",
       "  <thead>\n",
       "    <tr style=\"text-align: right;\">\n",
       "      <th></th>\n",
       "      <th>mean</th>\n",
       "      <th>median</th>\n",
       "    </tr>\n",
       "    <tr>\n",
       "      <th>page_cat</th>\n",
       "      <th></th>\n",
       "      <th></th>\n",
       "    </tr>\n",
       "  </thead>\n",
       "  <tbody>\n",
       "    <tr>\n",
       "      <th>account</th>\n",
       "      <td>61.263158</td>\n",
       "      <td>56.0</td>\n",
       "    </tr>\n",
       "    <tr>\n",
       "      <th>cat1</th>\n",
       "      <td>28.686170</td>\n",
       "      <td>28.0</td>\n",
       "    </tr>\n",
       "    <tr>\n",
       "      <th>cat2</th>\n",
       "      <td>45.210558</td>\n",
       "      <td>35.0</td>\n",
       "    </tr>\n",
       "    <tr>\n",
       "      <th>cat3</th>\n",
       "      <td>59.342084</td>\n",
       "      <td>60.0</td>\n",
       "    </tr>\n",
       "    <tr>\n",
       "      <th>home</th>\n",
       "      <td>24.958834</td>\n",
       "      <td>16.0</td>\n",
       "    </tr>\n",
       "    <tr>\n",
       "      <th>info</th>\n",
       "      <td>62.976744</td>\n",
       "      <td>61.0</td>\n",
       "    </tr>\n",
       "    <tr>\n",
       "      <th>marken</th>\n",
       "      <td>58.044444</td>\n",
       "      <td>59.0</td>\n",
       "    </tr>\n",
       "    <tr>\n",
       "      <th>not assigned</th>\n",
       "      <td>6.000000</td>\n",
       "      <td>6.0</td>\n",
       "    </tr>\n",
       "    <tr>\n",
       "      <th>notes</th>\n",
       "      <td>69.625000</td>\n",
       "      <td>66.0</td>\n",
       "    </tr>\n",
       "    <tr>\n",
       "      <th>product</th>\n",
       "      <td>56.402772</td>\n",
       "      <td>51.0</td>\n",
       "    </tr>\n",
       "    <tr>\n",
       "      <th>register</th>\n",
       "      <td>0.000000</td>\n",
       "      <td>0.0</td>\n",
       "    </tr>\n",
       "    <tr>\n",
       "      <th>search</th>\n",
       "      <td>63.161972</td>\n",
       "      <td>63.0</td>\n",
       "    </tr>\n",
       "  </tbody>\n",
       "</table>\n",
       "</div>"
      ],
      "text/plain": [
       "                   mean  median\n",
       "page_cat                       \n",
       "account       61.263158    56.0\n",
       "cat1          28.686170    28.0\n",
       "cat2          45.210558    35.0\n",
       "cat3          59.342084    60.0\n",
       "home          24.958834    16.0\n",
       "info          62.976744    61.0\n",
       "marken        58.044444    59.0\n",
       "not assigned   6.000000     6.0\n",
       "notes         69.625000    66.0\n",
       "product       56.402772    51.0\n",
       "register       0.000000     0.0\n",
       "search        63.161972    63.0"
      ]
     },
     "execution_count": 66,
     "metadata": {},
     "output_type": "execute_result"
    }
   ],
   "source": [
    "scroll_per_cat_purch"
   ]
  },
  {
   "cell_type": "code",
   "execution_count": 67,
   "metadata": {},
   "outputs": [
    {
     "data": {
      "text/html": [
       "<div>\n",
       "<style scoped>\n",
       "    .dataframe tbody tr th:only-of-type {\n",
       "        vertical-align: middle;\n",
       "    }\n",
       "\n",
       "    .dataframe tbody tr th {\n",
       "        vertical-align: top;\n",
       "    }\n",
       "\n",
       "    .dataframe thead th {\n",
       "        text-align: right;\n",
       "    }\n",
       "</style>\n",
       "<table border=\"1\" class=\"dataframe\">\n",
       "  <thead>\n",
       "    <tr style=\"text-align: right;\">\n",
       "      <th></th>\n",
       "      <th>mean</th>\n",
       "      <th>median</th>\n",
       "    </tr>\n",
       "    <tr>\n",
       "      <th>page_cat</th>\n",
       "      <th></th>\n",
       "      <th></th>\n",
       "    </tr>\n",
       "  </thead>\n",
       "  <tbody>\n",
       "    <tr>\n",
       "      <th>account</th>\n",
       "      <td>60.979381</td>\n",
       "      <td>52.0</td>\n",
       "    </tr>\n",
       "    <tr>\n",
       "      <th>cat1</th>\n",
       "      <td>34.421851</td>\n",
       "      <td>32.0</td>\n",
       "    </tr>\n",
       "    <tr>\n",
       "      <th>cat2</th>\n",
       "      <td>46.277692</td>\n",
       "      <td>37.0</td>\n",
       "    </tr>\n",
       "    <tr>\n",
       "      <th>cat3</th>\n",
       "      <td>58.772873</td>\n",
       "      <td>62.0</td>\n",
       "    </tr>\n",
       "    <tr>\n",
       "      <th>home</th>\n",
       "      <td>27.296619</td>\n",
       "      <td>19.0</td>\n",
       "    </tr>\n",
       "    <tr>\n",
       "      <th>info</th>\n",
       "      <td>65.193896</td>\n",
       "      <td>66.0</td>\n",
       "    </tr>\n",
       "    <tr>\n",
       "      <th>marken</th>\n",
       "      <td>54.055215</td>\n",
       "      <td>54.0</td>\n",
       "    </tr>\n",
       "    <tr>\n",
       "      <th>notes</th>\n",
       "      <td>63.354839</td>\n",
       "      <td>61.0</td>\n",
       "    </tr>\n",
       "    <tr>\n",
       "      <th>product</th>\n",
       "      <td>59.177155</td>\n",
       "      <td>57.0</td>\n",
       "    </tr>\n",
       "    <tr>\n",
       "      <th>search</th>\n",
       "      <td>68.895629</td>\n",
       "      <td>80.0</td>\n",
       "    </tr>\n",
       "  </tbody>\n",
       "</table>\n",
       "</div>"
      ],
      "text/plain": [
       "               mean  median\n",
       "page_cat                   \n",
       "account   60.979381    52.0\n",
       "cat1      34.421851    32.0\n",
       "cat2      46.277692    37.0\n",
       "cat3      58.772873    62.0\n",
       "home      27.296619    19.0\n",
       "info      65.193896    66.0\n",
       "marken    54.055215    54.0\n",
       "notes     63.354839    61.0\n",
       "product   59.177155    57.0\n",
       "search    68.895629    80.0"
      ]
     },
     "execution_count": 67,
     "metadata": {},
     "output_type": "execute_result"
    }
   ],
   "source": [
    "scroll_per_cat_nonpurch"
   ]
  },
  {
   "cell_type": "code",
   "execution_count": 23,
   "metadata": {},
   "outputs": [],
   "source": [
    "df_most_important_cats = df_out[(df_out['page_cat']=='product')|(df_out['page_cat']=='cat1')|(df_out['page_cat']=='cat2')|(df_out['page_cat']=='cat3')|(df_out['page_cat']=='info')|(df_out['page_cat']=='search')|(df_out['page_cat']=='home')]"
   ]
  },
  {
   "cell_type": "code",
   "execution_count": 24,
   "metadata": {},
   "outputs": [
    {
     "data": {
      "image/png": "[encoded data removed]",
      "text/plain": [
       "<Figure size 432x288 with 1 Axes>"
      ]
     },
     "metadata": {},
     "output_type": "display_data"
    },
    {
     "data": {
      "image/png": "[encoded data removed]",
      "text/plain": [
       "<Figure size 432x288 with 1 Axes>"
      ]
     },
     "metadata": {},
     "output_type": "display_data"
    }
   ],
   "source": [
    "max_y_axis = 120\n",
    "\n",
    "df_most_important_cats[df_most_important_cats['purchase']==True].boxplot(column='scroll', by='page_cat')\n",
    "plt.title('')\n",
    "plt.xlabel('Page category')\n",
    "plt.ylabel('Scroll depth in %')\n",
    "plt.gca().set_ylim([0,max_y_axis])\n",
    "plt.gcf().set_size_inches(6, 4)\n",
    "plt.suptitle('Purchase Sessions')\n",
    "plt.show()\n",
    "\n",
    "df_most_important_cats[df_most_important_cats['purchase']==False].boxplot(column='scroll', by='page_cat')\n",
    "plt.title('')\n",
    "plt.xlabel('Page category')\n",
    "plt.ylabel('Scroll depth in %')\n",
    "plt.gca().set_ylim([0,max_y_axis])\n",
    "plt.gcf().set_size_inches(6, 4)\n",
    "plt.suptitle('Non-purchase Sessions')\n",
    "plt.show()"
   ]
  },
  {
   "cell_type": "markdown",
   "metadata": {},
   "source": [
    "### Calculate duration of first 5 pages"
   ]
  },
  {
   "cell_type": "code",
   "execution_count": 26,
   "metadata": {},
   "outputs": [],
   "source": [
    "df_out['visitTime_5_pages'] = df_out.groupby(['session_id'])['visitTime'].transform('sum')"
   ]
  },
  {
   "cell_type": "code",
   "execution_count": 27,
   "metadata": {},
   "outputs": [],
   "source": [
    "dur_5_pages_purch = df_out[df_out['purchase']==True].groupby(['session_id']).head(1)['visitTime_5_pages']\n",
    "dur_5_pages_nonpurch = df_out[df_out['purchase']==False].groupby(['session_id']).head(1)['visitTime_5_pages']"
   ]
  },
  {
   "cell_type": "code",
   "execution_count": 31,
   "metadata": {},
   "outputs": [
    {
     "data": {
      "text/plain": [
       "mean        558.962638\n",
       "std        1064.601090\n",
       "min          12.296000\n",
       "q25          96.322500\n",
       "median      185.038000\n",
       "q75         468.697000\n",
       "max       16876.129000\n",
       "Name: visitTime_5_pages, dtype: float64"
      ]
     },
     "execution_count": 31,
     "metadata": {},
     "output_type": "execute_result"
    }
   ],
   "source": [
    "dur_5_pages_purch.agg([np.mean, 'std', 'min', q25,'median', q75, 'max'])"
   ]
  },
  {
   "cell_type": "code",
   "execution_count": 32,
   "metadata": {},
   "outputs": [
    {
     "data": {
      "text/plain": [
       "mean        436.299637\n",
       "std         929.212770\n",
       "min           4.354000\n",
       "q25          90.554500\n",
       "median      153.862000\n",
       "q75         311.286500\n",
       "max       16879.361000\n",
       "Name: visitTime_5_pages, dtype: float64"
      ]
     },
     "execution_count": 32,
     "metadata": {},
     "output_type": "execute_result"
    }
   ],
   "source": [
    "dur_5_pages_nonpurch.agg([np.mean, 'std', 'min', q25,'median', q75, 'max'])"
   ]
  },
  {
   "cell_type": "code",
   "execution_count": 80,
   "metadata": {},
   "outputs": [
    {
     "name": "stderr",
     "output_type": "stream",
     "text": [
      "C:\\Users\\Sellit\\Anaconda3\\lib\\site-packages\\matplotlib\\cbook\\deprecation.py:107: MatplotlibDeprecationWarning: Adding an axes using the same arguments as a previous axes currently reuses the earlier instance.  In a future version, a new instance will always be created and returned.  Meanwhile, this warning can be suppressed, and the future behavior ensured, by passing a unique label to each axes instance.\n",
      "  warnings.warn(message, mplDeprecation, stacklevel=1)\n"
     ]
    },
    {
     "data": {
      "image/png": "[encoded data removed]",
      "text/plain": [
       "<Figure size 576x360 with 1 Axes>"
      ]
     },
     "metadata": {},
     "output_type": "display_data"
    }
   ],
   "source": [
    "max_y_axis = 1100\n",
    "\n",
    "df_out.groupby('session_id').head(1).boxplot(column='visitTime_5_pages', by='purchase', widths = 0.5)\n",
    "plt.title('')\n",
    "plt.xlabel('')\n",
    "plt.ylabel('seconds')\n",
    "plt.gca().set_ylim([0,max_y_axis])\n",
    "plt.gcf().set_size_inches(8, 5)\n",
    "plt.suptitle('Duration on first 5 pages')\n",
    "plt.xticks(np.arange(1,3), ['Non-purchase', 'Purchase'])\n",
    "plt.axes().set_aspect(1/500)\n",
    "plt.show()"
   ]
  },
  {
   "cell_type": "markdown",
   "metadata": {},
   "source": [
    "### Calculate engegamentTime on first 5 pages"
   ]
  },
  {
   "cell_type": "code",
   "execution_count": 82,
   "metadata": {},
   "outputs": [],
   "source": [
    "df_out['engagementTime_5_pages'] = df_out.groupby(['session_id'])['engagementTime'].transform('sum')"
   ]
  },
  {
   "cell_type": "code",
   "execution_count": 83,
   "metadata": {},
   "outputs": [],
   "source": [
    "eng_5_pages_purch = df_out[df_out['purchase']==True].groupby(['session_id']).head(1)['engagementTime_5_pages']\n",
    "eng_5_pages_nonpurch = df_out[df_out['purchase']==False].groupby(['session_id']).head(1)['engagementTime_5_pages']"
   ]
  },
  {
   "cell_type": "code",
   "execution_count": 84,
   "metadata": {},
   "outputs": [
    {
     "data": {
      "text/plain": [
       "mean      155.426991\n",
       "std       105.117768\n",
       "min        11.236000\n",
       "q25        81.806000\n",
       "median    127.604000\n",
       "q75       203.058000\n",
       "max       881.085000\n",
       "Name: engagementTime_5_pages, dtype: float64"
      ]
     },
     "execution_count": 84,
     "metadata": {},
     "output_type": "execute_result"
    }
   ],
   "source": [
    "eng_5_pages_purch.agg([np.mean, 'std', 'min', q25,'median', q75, 'max'])"
   ]
  },
  {
   "cell_type": "code",
   "execution_count": 85,
   "metadata": {},
   "outputs": [
    {
     "data": {
      "text/plain": [
       "mean       137.939942\n",
       "std         85.707066\n",
       "min          4.354000\n",
       "q25         81.277500\n",
       "median     117.918000\n",
       "q75        173.279000\n",
       "max       1739.654000\n",
       "Name: engagementTime_5_pages, dtype: float64"
      ]
     },
     "execution_count": 85,
     "metadata": {},
     "output_type": "execute_result"
    }
   ],
   "source": [
    "eng_5_pages_nonpurch.agg([np.mean, 'std', 'min', q25,'median', q75, 'max'])"
   ]
  },
  {
   "cell_type": "code",
   "execution_count": 89,
   "metadata": {
    "scrolled": false
   },
   "outputs": [
    {
     "name": "stderr",
     "output_type": "stream",
     "text": [
      "C:\\Users\\Sellit\\Anaconda3\\lib\\site-packages\\matplotlib\\cbook\\deprecation.py:107: MatplotlibDeprecationWarning: Adding an axes using the same arguments as a previous axes currently reuses the earlier instance.  In a future version, a new instance will always be created and returned.  Meanwhile, this warning can be suppressed, and the future behavior ensured, by passing a unique label to each axes instance.\n",
      "  warnings.warn(message, mplDeprecation, stacklevel=1)\n"
     ]
    },
    {
     "data": {
      "image/png": "[encoded data removed]",
      "text/plain": [
       "<Figure size 576x360 with 1 Axes>"
      ]
     },
     "metadata": {},
     "output_type": "display_data"
    }
   ],
   "source": [
    "max_y_axis = 400\n",
    "\n",
    "df_out.groupby('session_id').head(1).boxplot(column='engagementTime_5_pages', by='purchase', widths = 0.5)\n",
    "plt.title('')\n",
    "plt.xlabel('')\n",
    "plt.ylabel('seconds')\n",
    "plt.gca().set_ylim([0,max_y_axis])\n",
    "plt.gcf().set_size_inches(8, 5)\n",
    "plt.suptitle('Engagement time on first 5 pages')\n",
    "plt.xticks(np.arange(1,3), ['Non-purchase', 'Purchase'])\n",
    "plt.axes().set_aspect(1/180)\n",
    "plt.show()"
   ]
  },
  {
   "cell_type": "markdown",
   "metadata": {},
   "source": [
    "### Calculate time per category"
   ]
  },
  {
   "cell_type": "code",
   "execution_count": 83,
   "metadata": {},
   "outputs": [],
   "source": [
    "time_per_cat_purch = df_out[df_out['purchase']==True].groupby('page_cat')[['engagementTime', 'visitTime']].agg(['mean', 'median'])\n",
    "time_per_cat_nonpurch = df_out[df_out['purchase']==False].groupby('page_cat')[['engagementTime', 'visitTime']].agg(['mean', 'median'])"
   ]
  },
  {
   "cell_type": "code",
   "execution_count": 84,
   "metadata": {},
   "outputs": [
    {
     "data": {
      "text/html": [
       "<div>\n",
       "<style scoped>\n",
       "    .dataframe tbody tr th:only-of-type {\n",
       "        vertical-align: middle;\n",
       "    }\n",
       "\n",
       "    .dataframe tbody tr th {\n",
       "        vertical-align: top;\n",
       "    }\n",
       "\n",
       "    .dataframe thead tr th {\n",
       "        text-align: left;\n",
       "    }\n",
       "\n",
       "    .dataframe thead tr:last-of-type th {\n",
       "        text-align: right;\n",
       "    }\n",
       "</style>\n",
       "<table border=\"1\" class=\"dataframe\">\n",
       "  <thead>\n",
       "    <tr>\n",
       "      <th></th>\n",
       "      <th colspan=\"2\" halign=\"left\">engagementTime</th>\n",
       "      <th colspan=\"2\" halign=\"left\">visitTime</th>\n",
       "    </tr>\n",
       "    <tr>\n",
       "      <th></th>\n",
       "      <th>mean</th>\n",
       "      <th>median</th>\n",
       "      <th>mean</th>\n",
       "      <th>median</th>\n",
       "    </tr>\n",
       "    <tr>\n",
       "      <th>page_cat</th>\n",
       "      <th></th>\n",
       "      <th></th>\n",
       "      <th></th>\n",
       "      <th></th>\n",
       "    </tr>\n",
       "  </thead>\n",
       "  <tbody>\n",
       "    <tr>\n",
       "      <th>account</th>\n",
       "      <td>20.683478</td>\n",
       "      <td>12.0070</td>\n",
       "      <td>43.971146</td>\n",
       "      <td>12.359</td>\n",
       "    </tr>\n",
       "    <tr>\n",
       "      <th>cat1</th>\n",
       "      <td>7.307484</td>\n",
       "      <td>5.2460</td>\n",
       "      <td>19.121096</td>\n",
       "      <td>4.745</td>\n",
       "    </tr>\n",
       "    <tr>\n",
       "      <th>cat2</th>\n",
       "      <td>22.429101</td>\n",
       "      <td>14.6690</td>\n",
       "      <td>53.174226</td>\n",
       "      <td>14.814</td>\n",
       "    </tr>\n",
       "    <tr>\n",
       "      <th>cat3</th>\n",
       "      <td>26.120467</td>\n",
       "      <td>18.5410</td>\n",
       "      <td>61.316837</td>\n",
       "      <td>18.576</td>\n",
       "    </tr>\n",
       "    <tr>\n",
       "      <th>home</th>\n",
       "      <td>12.595607</td>\n",
       "      <td>8.7950</td>\n",
       "      <td>49.045578</td>\n",
       "      <td>9.128</td>\n",
       "    </tr>\n",
       "    <tr>\n",
       "      <th>info</th>\n",
       "      <td>27.819380</td>\n",
       "      <td>14.2680</td>\n",
       "      <td>97.967868</td>\n",
       "      <td>16.158</td>\n",
       "    </tr>\n",
       "    <tr>\n",
       "      <th>marken</th>\n",
       "      <td>23.528178</td>\n",
       "      <td>21.2400</td>\n",
       "      <td>102.927889</td>\n",
       "      <td>21.530</td>\n",
       "    </tr>\n",
       "    <tr>\n",
       "      <th>not assigned</th>\n",
       "      <td>3.147000</td>\n",
       "      <td>3.1470</td>\n",
       "      <td>3.147000</td>\n",
       "      <td>3.147</td>\n",
       "    </tr>\n",
       "    <tr>\n",
       "      <th>notes</th>\n",
       "      <td>12.971875</td>\n",
       "      <td>6.7800</td>\n",
       "      <td>19.601875</td>\n",
       "      <td>6.812</td>\n",
       "    </tr>\n",
       "    <tr>\n",
       "      <th>product</th>\n",
       "      <td>47.795357</td>\n",
       "      <td>29.7370</td>\n",
       "      <td>211.071682</td>\n",
       "      <td>39.616</td>\n",
       "    </tr>\n",
       "    <tr>\n",
       "      <th>register</th>\n",
       "      <td>1.325000</td>\n",
       "      <td>1.3250</td>\n",
       "      <td>1.325000</td>\n",
       "      <td>1.325</td>\n",
       "    </tr>\n",
       "    <tr>\n",
       "      <th>search</th>\n",
       "      <td>22.410113</td>\n",
       "      <td>15.7195</td>\n",
       "      <td>59.035948</td>\n",
       "      <td>16.544</td>\n",
       "    </tr>\n",
       "  </tbody>\n",
       "</table>\n",
       "</div>"
      ],
      "text/plain": [
       "             engagementTime            visitTime        \n",
       "                       mean   median        mean  median\n",
       "page_cat                                                \n",
       "account           20.683478  12.0070   43.971146  12.359\n",
       "cat1               7.307484   5.2460   19.121096   4.745\n",
       "cat2              22.429101  14.6690   53.174226  14.814\n",
       "cat3              26.120467  18.5410   61.316837  18.576\n",
       "home              12.595607   8.7950   49.045578   9.128\n",
       "info              27.819380  14.2680   97.967868  16.158\n",
       "marken            23.528178  21.2400  102.927889  21.530\n",
       "not assigned       3.147000   3.1470    3.147000   3.147\n",
       "notes             12.971875   6.7800   19.601875   6.812\n",
       "product           47.795357  29.7370  211.071682  39.616\n",
       "register           1.325000   1.3250    1.325000   1.325\n",
       "search            22.410113  15.7195   59.035948  16.544"
      ]
     },
     "execution_count": 84,
     "metadata": {},
     "output_type": "execute_result"
    }
   ],
   "source": [
    "time_per_cat_purch"
   ]
  },
  {
   "cell_type": "code",
   "execution_count": 85,
   "metadata": {},
   "outputs": [
    {
     "data": {
      "text/html": [
       "<div>\n",
       "<style scoped>\n",
       "    .dataframe tbody tr th:only-of-type {\n",
       "        vertical-align: middle;\n",
       "    }\n",
       "\n",
       "    .dataframe tbody tr th {\n",
       "        vertical-align: top;\n",
       "    }\n",
       "\n",
       "    .dataframe thead tr th {\n",
       "        text-align: left;\n",
       "    }\n",
       "\n",
       "    .dataframe thead tr:last-of-type th {\n",
       "        text-align: right;\n",
       "    }\n",
       "</style>\n",
       "<table border=\"1\" class=\"dataframe\">\n",
       "  <thead>\n",
       "    <tr>\n",
       "      <th></th>\n",
       "      <th colspan=\"2\" halign=\"left\">engagementTime</th>\n",
       "      <th colspan=\"2\" halign=\"left\">visitTime</th>\n",
       "    </tr>\n",
       "    <tr>\n",
       "      <th></th>\n",
       "      <th>mean</th>\n",
       "      <th>median</th>\n",
       "      <th>mean</th>\n",
       "      <th>median</th>\n",
       "    </tr>\n",
       "    <tr>\n",
       "      <th>page_cat</th>\n",
       "      <th></th>\n",
       "      <th></th>\n",
       "      <th></th>\n",
       "      <th></th>\n",
       "    </tr>\n",
       "  </thead>\n",
       "  <tbody>\n",
       "    <tr>\n",
       "      <th>account</th>\n",
       "      <td>20.698340</td>\n",
       "      <td>12.8260</td>\n",
       "      <td>35.243330</td>\n",
       "      <td>13.1760</td>\n",
       "    </tr>\n",
       "    <tr>\n",
       "      <th>cat1</th>\n",
       "      <td>8.491354</td>\n",
       "      <td>6.0190</td>\n",
       "      <td>16.981223</td>\n",
       "      <td>5.9540</td>\n",
       "    </tr>\n",
       "    <tr>\n",
       "      <th>cat2</th>\n",
       "      <td>21.796183</td>\n",
       "      <td>14.8870</td>\n",
       "      <td>48.346798</td>\n",
       "      <td>15.1480</td>\n",
       "    </tr>\n",
       "    <tr>\n",
       "      <th>cat3</th>\n",
       "      <td>24.591558</td>\n",
       "      <td>18.3870</td>\n",
       "      <td>53.089033</td>\n",
       "      <td>18.7245</td>\n",
       "    </tr>\n",
       "    <tr>\n",
       "      <th>home</th>\n",
       "      <td>12.163316</td>\n",
       "      <td>8.2180</td>\n",
       "      <td>38.087129</td>\n",
       "      <td>8.2900</td>\n",
       "    </tr>\n",
       "    <tr>\n",
       "      <th>info</th>\n",
       "      <td>32.888878</td>\n",
       "      <td>15.5070</td>\n",
       "      <td>84.949241</td>\n",
       "      <td>17.7040</td>\n",
       "    </tr>\n",
       "    <tr>\n",
       "      <th>marken</th>\n",
       "      <td>29.768936</td>\n",
       "      <td>16.3820</td>\n",
       "      <td>46.618736</td>\n",
       "      <td>17.6270</td>\n",
       "    </tr>\n",
       "    <tr>\n",
       "      <th>notes</th>\n",
       "      <td>11.068387</td>\n",
       "      <td>7.4840</td>\n",
       "      <td>15.278065</td>\n",
       "      <td>8.0000</td>\n",
       "    </tr>\n",
       "    <tr>\n",
       "      <th>product</th>\n",
       "      <td>37.967147</td>\n",
       "      <td>25.7165</td>\n",
       "      <td>164.420296</td>\n",
       "      <td>33.6290</td>\n",
       "    </tr>\n",
       "    <tr>\n",
       "      <th>search</th>\n",
       "      <td>25.214266</td>\n",
       "      <td>19.4220</td>\n",
       "      <td>54.098720</td>\n",
       "      <td>20.0620</td>\n",
       "    </tr>\n",
       "  </tbody>\n",
       "</table>\n",
       "</div>"
      ],
      "text/plain": [
       "         engagementTime            visitTime         \n",
       "                   mean   median        mean   median\n",
       "page_cat                                             \n",
       "account       20.698340  12.8260   35.243330  13.1760\n",
       "cat1           8.491354   6.0190   16.981223   5.9540\n",
       "cat2          21.796183  14.8870   48.346798  15.1480\n",
       "cat3          24.591558  18.3870   53.089033  18.7245\n",
       "home          12.163316   8.2180   38.087129   8.2900\n",
       "info          32.888878  15.5070   84.949241  17.7040\n",
       "marken        29.768936  16.3820   46.618736  17.6270\n",
       "notes         11.068387   7.4840   15.278065   8.0000\n",
       "product       37.967147  25.7165  164.420296  33.6290\n",
       "search        25.214266  19.4220   54.098720  20.0620"
      ]
     },
     "execution_count": 85,
     "metadata": {},
     "output_type": "execute_result"
    }
   ],
   "source": [
    "time_per_cat_nonpurch"
   ]
  },
  {
   "cell_type": "code",
   "execution_count": 96,
   "metadata": {},
   "outputs": [
    {
     "data": {
      "image/png": "[encoded data removed]",
      "text/plain": [
       "<Figure size 432x288 with 1 Axes>"
      ]
     },
     "metadata": {},
     "output_type": "display_data"
    },
    {
     "data": {
      "image/png": "[encoded data removed]",
      "text/plain": [
       "<Figure size 432x288 with 1 Axes>"
      ]
     },
     "metadata": {},
     "output_type": "display_data"
    }
   ],
   "source": [
    "max_y_axis = 110\n",
    "\n",
    "df_most_important_cats[df_most_important_cats['purchase']==True].boxplot(column='engagementTime', by='page_cat', showmeans = True)\n",
    "plt.title('')\n",
    "plt.xlabel('Page category')\n",
    "plt.ylabel('Engagement time in sec')\n",
    "plt.gca().set_ylim([0,max_y_axis])\n",
    "plt.gcf().set_size_inches(6, 4)\n",
    "plt.suptitle('Purchase Sessions')\n",
    "plt.show()\n",
    "\n",
    "df_most_important_cats[df_most_important_cats['purchase']==False].boxplot(column='engagementTime', by='page_cat', showmeans = True)\n",
    "plt.title('')\n",
    "plt.xlabel('Page category')\n",
    "plt.ylabel('Engagement time in sec')\n",
    "plt.gca().set_ylim([0,max_y_axis])\n",
    "plt.gcf().set_size_inches(6, 4)\n",
    "plt.suptitle('Non-purchase Sessions')\n",
    "plt.show()"
   ]
  },
  {
   "cell_type": "code",
   "execution_count": 94,
   "metadata": {},
   "outputs": [
    {
     "data": {
      "image/png": "[encoded data removed]",
      "text/plain": [
       "<Figure size 432x288 with 1 Axes>"
      ]
     },
     "metadata": {},
     "output_type": "display_data"
    },
    {
     "data": {
      "image/png": "[encoded data removed]",
      "text/plain": [
       "<Figure size 432x288 with 1 Axes>"
      ]
     },
     "metadata": {},
     "output_type": "display_data"
    }
   ],
   "source": [
    "max_y_axis = 140\n",
    "\n",
    "df_most_important_cats[df_most_important_cats['purchase']==True].boxplot(column='visitTime', by='page_cat', showmeans = True)\n",
    "plt.title('')\n",
    "plt.xlabel('Page category')\n",
    "plt.ylabel('Visit time in sec')\n",
    "plt.gca().set_ylim([0,max_y_axis])\n",
    "plt.gcf().set_size_inches(6, 4)\n",
    "plt.suptitle('Purchase')\n",
    "plt.show()\n",
    "\n",
    "df_most_important_cats[df_most_important_cats['purchase']==False].boxplot(column='visitTime', by='page_cat', showmeans = True)\n",
    "plt.title('')\n",
    "plt.xlabel('Page category')\n",
    "plt.ylabel('Visit time in sec')\n",
    "plt.gca().set_ylim([0,max_y_axis])\n",
    "plt.gcf().set_size_inches(6, 4)\n",
    "plt.suptitle('Non-purchase')\n",
    "plt.show()"
   ]
  },
  {
   "cell_type": "markdown",
   "metadata": {},
   "source": [
    "### Time with no movement, Mean velocity, Distance on page per category"
   ]
  },
  {
   "cell_type": "markdown",
   "metadata": {},
   "source": [
    "#### Time with no movement"
   ]
  },
  {
   "cell_type": "code",
   "execution_count": 99,
   "metadata": {},
   "outputs": [
    {
     "data": {
      "text/html": [
       "<div>\n",
       "<style scoped>\n",
       "    .dataframe tbody tr th:only-of-type {\n",
       "        vertical-align: middle;\n",
       "    }\n",
       "\n",
       "    .dataframe tbody tr th {\n",
       "        vertical-align: top;\n",
       "    }\n",
       "\n",
       "    .dataframe thead th {\n",
       "        text-align: right;\n",
       "    }\n",
       "</style>\n",
       "<table border=\"1\" class=\"dataframe\">\n",
       "  <thead>\n",
       "    <tr style=\"text-align: right;\">\n",
       "      <th></th>\n",
       "      <th>mean</th>\n",
       "      <th>std</th>\n",
       "      <th>min</th>\n",
       "      <th>q25</th>\n",
       "      <th>median</th>\n",
       "      <th>q75</th>\n",
       "      <th>max</th>\n",
       "    </tr>\n",
       "    <tr>\n",
       "      <th>page_cat</th>\n",
       "      <th></th>\n",
       "      <th></th>\n",
       "      <th></th>\n",
       "      <th></th>\n",
       "      <th></th>\n",
       "      <th></th>\n",
       "      <th></th>\n",
       "    </tr>\n",
       "  </thead>\n",
       "  <tbody>\n",
       "    <tr>\n",
       "      <th>cat1</th>\n",
       "      <td>14.826935</td>\n",
       "      <td>84.045741</td>\n",
       "      <td>0.007</td>\n",
       "      <td>0.81375</td>\n",
       "      <td>1.6575</td>\n",
       "      <td>3.46375</td>\n",
       "      <td>861.730</td>\n",
       "    </tr>\n",
       "    <tr>\n",
       "      <th>cat2</th>\n",
       "      <td>31.792618</td>\n",
       "      <td>148.386381</td>\n",
       "      <td>0.000</td>\n",
       "      <td>1.42025</td>\n",
       "      <td>4.6895</td>\n",
       "      <td>15.43175</td>\n",
       "      <td>2219.565</td>\n",
       "    </tr>\n",
       "    <tr>\n",
       "      <th>cat3</th>\n",
       "      <td>34.694015</td>\n",
       "      <td>144.522304</td>\n",
       "      <td>0.000</td>\n",
       "      <td>1.92850</td>\n",
       "      <td>6.2295</td>\n",
       "      <td>18.03525</td>\n",
       "      <td>2198.949</td>\n",
       "    </tr>\n",
       "    <tr>\n",
       "      <th>home</th>\n",
       "      <td>11.959196</td>\n",
       "      <td>51.524251</td>\n",
       "      <td>0.000</td>\n",
       "      <td>0.90675</td>\n",
       "      <td>2.6490</td>\n",
       "      <td>7.33225</td>\n",
       "      <td>831.849</td>\n",
       "    </tr>\n",
       "    <tr>\n",
       "      <th>info</th>\n",
       "      <td>60.230226</td>\n",
       "      <td>223.757788</td>\n",
       "      <td>0.000</td>\n",
       "      <td>0.77500</td>\n",
       "      <td>6.4980</td>\n",
       "      <td>21.74500</td>\n",
       "      <td>1744.965</td>\n",
       "    </tr>\n",
       "    <tr>\n",
       "      <th>product</th>\n",
       "      <td>133.953770</td>\n",
       "      <td>476.431885</td>\n",
       "      <td>0.000</td>\n",
       "      <td>5.49800</td>\n",
       "      <td>19.3260</td>\n",
       "      <td>70.26800</td>\n",
       "      <td>16727.307</td>\n",
       "    </tr>\n",
       "    <tr>\n",
       "      <th>search</th>\n",
       "      <td>33.247919</td>\n",
       "      <td>151.204226</td>\n",
       "      <td>0.000</td>\n",
       "      <td>1.19725</td>\n",
       "      <td>4.3430</td>\n",
       "      <td>18.12825</td>\n",
       "      <td>1635.667</td>\n",
       "    </tr>\n",
       "  </tbody>\n",
       "</table>\n",
       "</div>"
      ],
      "text/plain": [
       "                mean         std    min      q25   median       q75        max\n",
       "page_cat                                                                      \n",
       "cat1       14.826935   84.045741  0.007  0.81375   1.6575   3.46375    861.730\n",
       "cat2       31.792618  148.386381  0.000  1.42025   4.6895  15.43175   2219.565\n",
       "cat3       34.694015  144.522304  0.000  1.92850   6.2295  18.03525   2198.949\n",
       "home       11.959196   51.524251  0.000  0.90675   2.6490   7.33225    831.849\n",
       "info       60.230226  223.757788  0.000  0.77500   6.4980  21.74500   1744.965\n",
       "product   133.953770  476.431885  0.000  5.49800  19.3260  70.26800  16727.307\n",
       "search     33.247919  151.204226  0.000  1.19725   4.3430  18.12825   1635.667"
      ]
     },
     "execution_count": 99,
     "metadata": {},
     "output_type": "execute_result"
    }
   ],
   "source": [
    "# Purchase\n",
    "\n",
    "df_most_important_cats[df_most_important_cats['purchase']==True].groupby(['page_cat'])['time_no_movement'].agg([np.mean, 'std', 'min', q25,'median', q75, 'max'])"
   ]
  },
  {
   "cell_type": "code",
   "execution_count": 100,
   "metadata": {},
   "outputs": [
    {
     "data": {
      "text/html": [
       "<div>\n",
       "<style scoped>\n",
       "    .dataframe tbody tr th:only-of-type {\n",
       "        vertical-align: middle;\n",
       "    }\n",
       "\n",
       "    .dataframe tbody tr th {\n",
       "        vertical-align: top;\n",
       "    }\n",
       "\n",
       "    .dataframe thead th {\n",
       "        text-align: right;\n",
       "    }\n",
       "</style>\n",
       "<table border=\"1\" class=\"dataframe\">\n",
       "  <thead>\n",
       "    <tr style=\"text-align: right;\">\n",
       "      <th></th>\n",
       "      <th>mean</th>\n",
       "      <th>std</th>\n",
       "      <th>min</th>\n",
       "      <th>q25</th>\n",
       "      <th>median</th>\n",
       "      <th>q75</th>\n",
       "      <th>max</th>\n",
       "    </tr>\n",
       "    <tr>\n",
       "      <th>page_cat</th>\n",
       "      <th></th>\n",
       "      <th></th>\n",
       "      <th></th>\n",
       "      <th></th>\n",
       "      <th></th>\n",
       "      <th></th>\n",
       "      <th></th>\n",
       "    </tr>\n",
       "  </thead>\n",
       "  <tbody>\n",
       "    <tr>\n",
       "      <th>cat1</th>\n",
       "      <td>7.761720</td>\n",
       "      <td>69.839858</td>\n",
       "      <td>0.0</td>\n",
       "      <td>0.95500</td>\n",
       "      <td>2.085</td>\n",
       "      <td>4.6970</td>\n",
       "      <td>1644.604</td>\n",
       "    </tr>\n",
       "    <tr>\n",
       "      <th>cat2</th>\n",
       "      <td>22.225532</td>\n",
       "      <td>101.128913</td>\n",
       "      <td>0.0</td>\n",
       "      <td>1.63400</td>\n",
       "      <td>5.157</td>\n",
       "      <td>14.5515</td>\n",
       "      <td>3512.488</td>\n",
       "    </tr>\n",
       "    <tr>\n",
       "      <th>cat3</th>\n",
       "      <td>24.876287</td>\n",
       "      <td>105.116699</td>\n",
       "      <td>0.0</td>\n",
       "      <td>2.07400</td>\n",
       "      <td>6.469</td>\n",
       "      <td>16.5470</td>\n",
       "      <td>2988.144</td>\n",
       "    </tr>\n",
       "    <tr>\n",
       "      <th>home</th>\n",
       "      <td>21.318348</td>\n",
       "      <td>132.051361</td>\n",
       "      <td>0.0</td>\n",
       "      <td>1.05525</td>\n",
       "      <td>2.835</td>\n",
       "      <td>8.1010</td>\n",
       "      <td>1976.241</td>\n",
       "    </tr>\n",
       "    <tr>\n",
       "      <th>info</th>\n",
       "      <td>42.817132</td>\n",
       "      <td>148.406905</td>\n",
       "      <td>0.0</td>\n",
       "      <td>1.58200</td>\n",
       "      <td>7.476</td>\n",
       "      <td>32.7745</td>\n",
       "      <td>2192.546</td>\n",
       "    </tr>\n",
       "    <tr>\n",
       "      <th>product</th>\n",
       "      <td>72.707918</td>\n",
       "      <td>226.199452</td>\n",
       "      <td>0.0</td>\n",
       "      <td>4.50400</td>\n",
       "      <td>15.205</td>\n",
       "      <td>45.9280</td>\n",
       "      <td>3401.362</td>\n",
       "    </tr>\n",
       "    <tr>\n",
       "      <th>search</th>\n",
       "      <td>25.331236</td>\n",
       "      <td>85.683344</td>\n",
       "      <td>0.0</td>\n",
       "      <td>1.71550</td>\n",
       "      <td>6.142</td>\n",
       "      <td>19.8135</td>\n",
       "      <td>1861.802</td>\n",
       "    </tr>\n",
       "  </tbody>\n",
       "</table>\n",
       "</div>"
      ],
      "text/plain": [
       "               mean         std  min      q25  median      q75       max\n",
       "page_cat                                                                \n",
       "cat1       7.761720   69.839858  0.0  0.95500   2.085   4.6970  1644.604\n",
       "cat2      22.225532  101.128913  0.0  1.63400   5.157  14.5515  3512.488\n",
       "cat3      24.876287  105.116699  0.0  2.07400   6.469  16.5470  2988.144\n",
       "home      21.318348  132.051361  0.0  1.05525   2.835   8.1010  1976.241\n",
       "info      42.817132  148.406905  0.0  1.58200   7.476  32.7745  2192.546\n",
       "product   72.707918  226.199452  0.0  4.50400  15.205  45.9280  3401.362\n",
       "search    25.331236   85.683344  0.0  1.71550   6.142  19.8135  1861.802"
      ]
     },
     "execution_count": 100,
     "metadata": {},
     "output_type": "execute_result"
    }
   ],
   "source": [
    "# Non-purchase\n",
    "\n",
    "df_most_important_cats[df_most_important_cats['purchase']==False].groupby(['page_cat'])['time_no_movement'].agg([np.mean, 'std', 'min', q25,'median', q75, 'max'])"
   ]
  },
  {
   "cell_type": "code",
   "execution_count": 104,
   "metadata": {},
   "outputs": [
    {
     "data": {
      "image/png": "[encoded data removed]",
      "text/plain": [
       "<Figure size 432x288 with 1 Axes>"
      ]
     },
     "metadata": {},
     "output_type": "display_data"
    },
    {
     "data": {
      "image/png": "[encoded data removed]",
      "text/plain": [
       "<Figure size 432x288 with 1 Axes>"
      ]
     },
     "metadata": {},
     "output_type": "display_data"
    }
   ],
   "source": [
    "max_y_axis = 75\n",
    "\n",
    "df_most_important_cats[df_most_important_cats['purchase']==True].boxplot(column='time_no_movement', by='page_cat')\n",
    "plt.title('')\n",
    "plt.xlabel('Page category')\n",
    "plt.ylabel('Time with no movement in sec')\n",
    "plt.gca().set_ylim([0,max_y_axis])\n",
    "plt.gcf().set_size_inches(6, 4)\n",
    "plt.suptitle('Purchase Sessions')\n",
    "plt.show()\n",
    "\n",
    "df_most_important_cats[df_most_important_cats['purchase']==False].boxplot(column='time_no_movement', by='page_cat')\n",
    "plt.title('')\n",
    "plt.xlabel('Page category')\n",
    "plt.ylabel('Time with no movement in sec')\n",
    "plt.gca().set_ylim([0,max_y_axis])\n",
    "plt.gcf().set_size_inches(6, 4)\n",
    "plt.suptitle('Non-purchase Sessions')\n",
    "plt.show()"
   ]
  },
  {
   "cell_type": "markdown",
   "metadata": {},
   "source": [
    "#### Mean velocity"
   ]
  },
  {
   "cell_type": "code",
   "execution_count": 89,
   "metadata": {},
   "outputs": [
    {
     "data": {
      "text/html": [
       "<div>\n",
       "<style scoped>\n",
       "    .dataframe tbody tr th:only-of-type {\n",
       "        vertical-align: middle;\n",
       "    }\n",
       "\n",
       "    .dataframe tbody tr th {\n",
       "        vertical-align: top;\n",
       "    }\n",
       "\n",
       "    .dataframe thead th {\n",
       "        text-align: right;\n",
       "    }\n",
       "</style>\n",
       "<table border=\"1\" class=\"dataframe\">\n",
       "  <thead>\n",
       "    <tr style=\"text-align: right;\">\n",
       "      <th></th>\n",
       "      <th>mean</th>\n",
       "      <th>std</th>\n",
       "      <th>min</th>\n",
       "      <th>q25</th>\n",
       "      <th>median</th>\n",
       "      <th>q75</th>\n",
       "      <th>max</th>\n",
       "    </tr>\n",
       "    <tr>\n",
       "      <th>page_cat</th>\n",
       "      <th></th>\n",
       "      <th></th>\n",
       "      <th></th>\n",
       "      <th></th>\n",
       "      <th></th>\n",
       "      <th></th>\n",
       "      <th></th>\n",
       "    </tr>\n",
       "  </thead>\n",
       "  <tbody>\n",
       "    <tr>\n",
       "      <th>cat1</th>\n",
       "      <td>151.990849</td>\n",
       "      <td>139.971431</td>\n",
       "      <td>0.0</td>\n",
       "      <td>51.590809</td>\n",
       "      <td>113.803371</td>\n",
       "      <td>206.801030</td>\n",
       "      <td>656.206808</td>\n",
       "    </tr>\n",
       "    <tr>\n",
       "      <th>cat2</th>\n",
       "      <td>227.788824</td>\n",
       "      <td>193.480336</td>\n",
       "      <td>0.0</td>\n",
       "      <td>94.585829</td>\n",
       "      <td>179.416428</td>\n",
       "      <td>304.992128</td>\n",
       "      <td>2102.592744</td>\n",
       "    </tr>\n",
       "    <tr>\n",
       "      <th>cat3</th>\n",
       "      <td>224.770558</td>\n",
       "      <td>178.777653</td>\n",
       "      <td>0.0</td>\n",
       "      <td>104.634952</td>\n",
       "      <td>184.779959</td>\n",
       "      <td>300.265696</td>\n",
       "      <td>1368.237907</td>\n",
       "    </tr>\n",
       "    <tr>\n",
       "      <th>home</th>\n",
       "      <td>197.260776</td>\n",
       "      <td>183.526161</td>\n",
       "      <td>0.0</td>\n",
       "      <td>64.885878</td>\n",
       "      <td>145.371726</td>\n",
       "      <td>270.033297</td>\n",
       "      <td>1125.151794</td>\n",
       "    </tr>\n",
       "    <tr>\n",
       "      <th>info</th>\n",
       "      <td>169.287498</td>\n",
       "      <td>112.794393</td>\n",
       "      <td>0.0</td>\n",
       "      <td>92.184484</td>\n",
       "      <td>149.595186</td>\n",
       "      <td>238.909359</td>\n",
       "      <td>478.506052</td>\n",
       "    </tr>\n",
       "    <tr>\n",
       "      <th>product</th>\n",
       "      <td>160.169773</td>\n",
       "      <td>155.412047</td>\n",
       "      <td>0.0</td>\n",
       "      <td>56.281751</td>\n",
       "      <td>123.047979</td>\n",
       "      <td>213.109365</td>\n",
       "      <td>1745.395450</td>\n",
       "    </tr>\n",
       "    <tr>\n",
       "      <th>search</th>\n",
       "      <td>228.511362</td>\n",
       "      <td>198.484587</td>\n",
       "      <td>0.0</td>\n",
       "      <td>89.172372</td>\n",
       "      <td>172.780966</td>\n",
       "      <td>307.914137</td>\n",
       "      <td>1429.368353</td>\n",
       "    </tr>\n",
       "  </tbody>\n",
       "</table>\n",
       "</div>"
      ],
      "text/plain": [
       "                mean         std  min         q25      median         q75  \\\n",
       "page_cat                                                                    \n",
       "cat1      151.990849  139.971431  0.0   51.590809  113.803371  206.801030   \n",
       "cat2      227.788824  193.480336  0.0   94.585829  179.416428  304.992128   \n",
       "cat3      224.770558  178.777653  0.0  104.634952  184.779959  300.265696   \n",
       "home      197.260776  183.526161  0.0   64.885878  145.371726  270.033297   \n",
       "info      169.287498  112.794393  0.0   92.184484  149.595186  238.909359   \n",
       "product   160.169773  155.412047  0.0   56.281751  123.047979  213.109365   \n",
       "search    228.511362  198.484587  0.0   89.172372  172.780966  307.914137   \n",
       "\n",
       "                  max  \n",
       "page_cat               \n",
       "cat1       656.206808  \n",
       "cat2      2102.592744  \n",
       "cat3      1368.237907  \n",
       "home      1125.151794  \n",
       "info       478.506052  \n",
       "product   1745.395450  \n",
       "search    1429.368353  "
      ]
     },
     "execution_count": 89,
     "metadata": {},
     "output_type": "execute_result"
    }
   ],
   "source": [
    "# Purchase\n",
    "\n",
    "df_most_important_cats[df_most_important_cats['purchase']==True].groupby(['page_cat'])['mean_velocity'].agg([np.mean, 'std', 'min', q25,'median', q75, 'max'])"
   ]
  },
  {
   "cell_type": "code",
   "execution_count": 90,
   "metadata": {},
   "outputs": [
    {
     "data": {
      "text/html": [
       "<div>\n",
       "<style scoped>\n",
       "    .dataframe tbody tr th:only-of-type {\n",
       "        vertical-align: middle;\n",
       "    }\n",
       "\n",
       "    .dataframe tbody tr th {\n",
       "        vertical-align: top;\n",
       "    }\n",
       "\n",
       "    .dataframe thead th {\n",
       "        text-align: right;\n",
       "    }\n",
       "</style>\n",
       "<table border=\"1\" class=\"dataframe\">\n",
       "  <thead>\n",
       "    <tr style=\"text-align: right;\">\n",
       "      <th></th>\n",
       "      <th>mean</th>\n",
       "      <th>std</th>\n",
       "      <th>min</th>\n",
       "      <th>q25</th>\n",
       "      <th>median</th>\n",
       "      <th>q75</th>\n",
       "      <th>max</th>\n",
       "    </tr>\n",
       "    <tr>\n",
       "      <th>page_cat</th>\n",
       "      <th></th>\n",
       "      <th></th>\n",
       "      <th></th>\n",
       "      <th></th>\n",
       "      <th></th>\n",
       "      <th></th>\n",
       "      <th></th>\n",
       "    </tr>\n",
       "  </thead>\n",
       "  <tbody>\n",
       "    <tr>\n",
       "      <th>cat1</th>\n",
       "      <td>188.003416</td>\n",
       "      <td>165.531954</td>\n",
       "      <td>0.0</td>\n",
       "      <td>77.078472</td>\n",
       "      <td>149.102813</td>\n",
       "      <td>256.896600</td>\n",
       "      <td>1167.035712</td>\n",
       "    </tr>\n",
       "    <tr>\n",
       "      <th>cat2</th>\n",
       "      <td>211.949510</td>\n",
       "      <td>169.110041</td>\n",
       "      <td>0.0</td>\n",
       "      <td>94.184463</td>\n",
       "      <td>171.287288</td>\n",
       "      <td>282.878552</td>\n",
       "      <td>1503.385907</td>\n",
       "    </tr>\n",
       "    <tr>\n",
       "      <th>cat3</th>\n",
       "      <td>212.926065</td>\n",
       "      <td>168.381070</td>\n",
       "      <td>0.0</td>\n",
       "      <td>102.014784</td>\n",
       "      <td>174.124568</td>\n",
       "      <td>278.848906</td>\n",
       "      <td>2900.533110</td>\n",
       "    </tr>\n",
       "    <tr>\n",
       "      <th>home</th>\n",
       "      <td>194.926908</td>\n",
       "      <td>180.839212</td>\n",
       "      <td>0.0</td>\n",
       "      <td>77.196397</td>\n",
       "      <td>147.153996</td>\n",
       "      <td>261.079509</td>\n",
       "      <td>1367.696478</td>\n",
       "    </tr>\n",
       "    <tr>\n",
       "      <th>info</th>\n",
       "      <td>197.811769</td>\n",
       "      <td>166.679108</td>\n",
       "      <td>0.0</td>\n",
       "      <td>79.544045</td>\n",
       "      <td>154.476112</td>\n",
       "      <td>269.200293</td>\n",
       "      <td>1176.253136</td>\n",
       "    </tr>\n",
       "    <tr>\n",
       "      <th>product</th>\n",
       "      <td>175.712852</td>\n",
       "      <td>146.427194</td>\n",
       "      <td>0.0</td>\n",
       "      <td>75.677580</td>\n",
       "      <td>141.998706</td>\n",
       "      <td>236.125758</td>\n",
       "      <td>1695.213571</td>\n",
       "    </tr>\n",
       "    <tr>\n",
       "      <th>search</th>\n",
       "      <td>232.443682</td>\n",
       "      <td>198.830074</td>\n",
       "      <td>0.0</td>\n",
       "      <td>101.102250</td>\n",
       "      <td>187.198110</td>\n",
       "      <td>309.463376</td>\n",
       "      <td>3084.743636</td>\n",
       "    </tr>\n",
       "  </tbody>\n",
       "</table>\n",
       "</div>"
      ],
      "text/plain": [
       "                mean         std  min         q25      median         q75  \\\n",
       "page_cat                                                                    \n",
       "cat1      188.003416  165.531954  0.0   77.078472  149.102813  256.896600   \n",
       "cat2      211.949510  169.110041  0.0   94.184463  171.287288  282.878552   \n",
       "cat3      212.926065  168.381070  0.0  102.014784  174.124568  278.848906   \n",
       "home      194.926908  180.839212  0.0   77.196397  147.153996  261.079509   \n",
       "info      197.811769  166.679108  0.0   79.544045  154.476112  269.200293   \n",
       "product   175.712852  146.427194  0.0   75.677580  141.998706  236.125758   \n",
       "search    232.443682  198.830074  0.0  101.102250  187.198110  309.463376   \n",
       "\n",
       "                  max  \n",
       "page_cat               \n",
       "cat1      1167.035712  \n",
       "cat2      1503.385907  \n",
       "cat3      2900.533110  \n",
       "home      1367.696478  \n",
       "info      1176.253136  \n",
       "product   1695.213571  \n",
       "search    3084.743636  "
      ]
     },
     "execution_count": 90,
     "metadata": {},
     "output_type": "execute_result"
    }
   ],
   "source": [
    "# Non-purchase\n",
    "\n",
    "df_most_important_cats[df_most_important_cats['purchase']==False].groupby(['page_cat'])['mean_velocity'].agg([np.mean, 'std', 'min', q25,'median', q75, 'max'])"
   ]
  },
  {
   "cell_type": "code",
   "execution_count": 106,
   "metadata": {},
   "outputs": [
    {
     "data": {
      "image/png": "[encoded data removed]",
      "text/plain": [
       "<Figure size 432x288 with 1 Axes>"
      ]
     },
     "metadata": {},
     "output_type": "display_data"
    },
    {
     "data": {
      "image/png": "[encoded data removed]",
      "text/plain": [
       "<Figure size 432x288 with 1 Axes>"
      ]
     },
     "metadata": {},
     "output_type": "display_data"
    }
   ],
   "source": [
    "max_y_axis = 650\n",
    "\n",
    "df_most_important_cats[df_most_important_cats['purchase']==True].boxplot(column='mean_velocity', by='page_cat')\n",
    "plt.title('')\n",
    "plt.xlabel('Page category')\n",
    "plt.ylabel('Mean velocity in pixel per sec')\n",
    "plt.gca().set_ylim([0,max_y_axis])\n",
    "plt.gcf().set_size_inches(6, 4)\n",
    "plt.suptitle('Purchase Sessions')\n",
    "plt.show()\n",
    "\n",
    "df_most_important_cats[df_most_important_cats['purchase']==False].boxplot(column='mean_velocity', by='page_cat')\n",
    "plt.title('')\n",
    "plt.xlabel('Page category')\n",
    "plt.ylabel('Mean velocity in pixel per sec')\n",
    "plt.gca().set_ylim([0,max_y_axis])\n",
    "plt.gcf().set_size_inches(6, 4)\n",
    "plt.suptitle('Non-purchase Sessions')\n",
    "plt.show()"
   ]
  },
  {
   "cell_type": "markdown",
   "metadata": {},
   "source": [
    "#### Distance on page"
   ]
  },
  {
   "cell_type": "code",
   "execution_count": 92,
   "metadata": {},
   "outputs": [
    {
     "data": {
      "text/html": [
       "<div>\n",
       "<style scoped>\n",
       "    .dataframe tbody tr th:only-of-type {\n",
       "        vertical-align: middle;\n",
       "    }\n",
       "\n",
       "    .dataframe tbody tr th {\n",
       "        vertical-align: top;\n",
       "    }\n",
       "\n",
       "    .dataframe thead th {\n",
       "        text-align: right;\n",
       "    }\n",
       "</style>\n",
       "<table border=\"1\" class=\"dataframe\">\n",
       "  <thead>\n",
       "    <tr style=\"text-align: right;\">\n",
       "      <th></th>\n",
       "      <th>mean</th>\n",
       "      <th>std</th>\n",
       "      <th>min</th>\n",
       "      <th>q25</th>\n",
       "      <th>median</th>\n",
       "      <th>q75</th>\n",
       "      <th>max</th>\n",
       "    </tr>\n",
       "    <tr>\n",
       "      <th>page_cat</th>\n",
       "      <th></th>\n",
       "      <th></th>\n",
       "      <th></th>\n",
       "      <th></th>\n",
       "      <th></th>\n",
       "      <th></th>\n",
       "      <th></th>\n",
       "    </tr>\n",
       "  </thead>\n",
       "  <tbody>\n",
       "    <tr>\n",
       "      <th>cat1</th>\n",
       "      <td>1166.567210</td>\n",
       "      <td>1753.321528</td>\n",
       "      <td>0.0</td>\n",
       "      <td>208.988907</td>\n",
       "      <td>552.056399</td>\n",
       "      <td>1477.242758</td>\n",
       "      <td>14972.012128</td>\n",
       "    </tr>\n",
       "    <tr>\n",
       "      <th>cat2</th>\n",
       "      <td>4347.497940</td>\n",
       "      <td>4568.249258</td>\n",
       "      <td>0.0</td>\n",
       "      <td>1166.622505</td>\n",
       "      <td>3250.930569</td>\n",
       "      <td>5876.615446</td>\n",
       "      <td>46580.596164</td>\n",
       "    </tr>\n",
       "    <tr>\n",
       "      <th>cat3</th>\n",
       "      <td>4951.470166</td>\n",
       "      <td>4514.529624</td>\n",
       "      <td>0.0</td>\n",
       "      <td>1844.458874</td>\n",
       "      <td>3867.263297</td>\n",
       "      <td>6433.101887</td>\n",
       "      <td>37628.249834</td>\n",
       "    </tr>\n",
       "    <tr>\n",
       "      <th>home</th>\n",
       "      <td>2689.153250</td>\n",
       "      <td>3875.706433</td>\n",
       "      <td>0.0</td>\n",
       "      <td>561.051166</td>\n",
       "      <td>1244.380583</td>\n",
       "      <td>3211.164382</td>\n",
       "      <td>31903.300867</td>\n",
       "    </tr>\n",
       "    <tr>\n",
       "      <th>info</th>\n",
       "      <td>4291.432703</td>\n",
       "      <td>5240.657915</td>\n",
       "      <td>0.0</td>\n",
       "      <td>1102.750498</td>\n",
       "      <td>2593.347473</td>\n",
       "      <td>5534.613528</td>\n",
       "      <td>42501.502789</td>\n",
       "    </tr>\n",
       "    <tr>\n",
       "      <th>product</th>\n",
       "      <td>8571.213000</td>\n",
       "      <td>11267.468432</td>\n",
       "      <td>0.0</td>\n",
       "      <td>2267.542477</td>\n",
       "      <td>4992.398366</td>\n",
       "      <td>10387.513689</td>\n",
       "      <td>119258.367311</td>\n",
       "    </tr>\n",
       "    <tr>\n",
       "      <th>search</th>\n",
       "      <td>4066.441183</td>\n",
       "      <td>3895.111161</td>\n",
       "      <td>0.0</td>\n",
       "      <td>1384.557594</td>\n",
       "      <td>3227.724663</td>\n",
       "      <td>5167.397773</td>\n",
       "      <td>40340.169681</td>\n",
       "    </tr>\n",
       "  </tbody>\n",
       "</table>\n",
       "</div>"
      ],
      "text/plain": [
       "                 mean           std  min          q25       median  \\\n",
       "page_cat                                                             \n",
       "cat1      1166.567210   1753.321528  0.0   208.988907   552.056399   \n",
       "cat2      4347.497940   4568.249258  0.0  1166.622505  3250.930569   \n",
       "cat3      4951.470166   4514.529624  0.0  1844.458874  3867.263297   \n",
       "home      2689.153250   3875.706433  0.0   561.051166  1244.380583   \n",
       "info      4291.432703   5240.657915  0.0  1102.750498  2593.347473   \n",
       "product   8571.213000  11267.468432  0.0  2267.542477  4992.398366   \n",
       "search    4066.441183   3895.111161  0.0  1384.557594  3227.724663   \n",
       "\n",
       "                   q75            max  \n",
       "page_cat                               \n",
       "cat1       1477.242758   14972.012128  \n",
       "cat2       5876.615446   46580.596164  \n",
       "cat3       6433.101887   37628.249834  \n",
       "home       3211.164382   31903.300867  \n",
       "info       5534.613528   42501.502789  \n",
       "product   10387.513689  119258.367311  \n",
       "search     5167.397773   40340.169681  "
      ]
     },
     "execution_count": 92,
     "metadata": {},
     "output_type": "execute_result"
    }
   ],
   "source": [
    "# Purchase\n",
    "\n",
    "df_most_important_cats[df_most_important_cats['purchase']==True].groupby(['page_cat'])['dist_on_page'].agg([np.mean, 'std', 'min', q25,'median', q75, 'max'])"
   ]
  },
  {
   "cell_type": "code",
   "execution_count": 91,
   "metadata": {},
   "outputs": [
    {
     "data": {
      "text/html": [
       "<div>\n",
       "<style scoped>\n",
       "    .dataframe tbody tr th:only-of-type {\n",
       "        vertical-align: middle;\n",
       "    }\n",
       "\n",
       "    .dataframe tbody tr th {\n",
       "        vertical-align: top;\n",
       "    }\n",
       "\n",
       "    .dataframe thead th {\n",
       "        text-align: right;\n",
       "    }\n",
       "</style>\n",
       "<table border=\"1\" class=\"dataframe\">\n",
       "  <thead>\n",
       "    <tr style=\"text-align: right;\">\n",
       "      <th></th>\n",
       "      <th>mean</th>\n",
       "      <th>std</th>\n",
       "      <th>min</th>\n",
       "      <th>q25</th>\n",
       "      <th>median</th>\n",
       "      <th>q75</th>\n",
       "      <th>max</th>\n",
       "    </tr>\n",
       "    <tr>\n",
       "      <th>page_cat</th>\n",
       "      <th></th>\n",
       "      <th></th>\n",
       "      <th></th>\n",
       "      <th></th>\n",
       "      <th></th>\n",
       "      <th></th>\n",
       "      <th></th>\n",
       "    </tr>\n",
       "  </thead>\n",
       "  <tbody>\n",
       "    <tr>\n",
       "      <th>cat1</th>\n",
       "      <td>1581.752353</td>\n",
       "      <td>1912.477879</td>\n",
       "      <td>0.0</td>\n",
       "      <td>336.173202</td>\n",
       "      <td>935.416100</td>\n",
       "      <td>2069.120931</td>\n",
       "      <td>20122.691724</td>\n",
       "    </tr>\n",
       "    <tr>\n",
       "      <th>cat2</th>\n",
       "      <td>4194.792259</td>\n",
       "      <td>4583.309700</td>\n",
       "      <td>0.0</td>\n",
       "      <td>1162.297299</td>\n",
       "      <td>3116.789865</td>\n",
       "      <td>5470.268828</td>\n",
       "      <td>91481.003573</td>\n",
       "    </tr>\n",
       "    <tr>\n",
       "      <th>cat3</th>\n",
       "      <td>4653.785247</td>\n",
       "      <td>4408.846515</td>\n",
       "      <td>0.0</td>\n",
       "      <td>1772.305407</td>\n",
       "      <td>3627.081873</td>\n",
       "      <td>6008.227772</td>\n",
       "      <td>57970.634530</td>\n",
       "    </tr>\n",
       "    <tr>\n",
       "      <th>home</th>\n",
       "      <td>2599.690374</td>\n",
       "      <td>3849.599528</td>\n",
       "      <td>0.0</td>\n",
       "      <td>560.056283</td>\n",
       "      <td>1302.228901</td>\n",
       "      <td>3030.915418</td>\n",
       "      <td>46660.304580</td>\n",
       "    </tr>\n",
       "    <tr>\n",
       "      <th>info</th>\n",
       "      <td>5636.020066</td>\n",
       "      <td>7995.525534</td>\n",
       "      <td>0.0</td>\n",
       "      <td>1339.064223</td>\n",
       "      <td>2974.015282</td>\n",
       "      <td>6670.339115</td>\n",
       "      <td>75345.704739</td>\n",
       "    </tr>\n",
       "    <tr>\n",
       "      <th>product</th>\n",
       "      <td>7133.308081</td>\n",
       "      <td>8188.615019</td>\n",
       "      <td>0.0</td>\n",
       "      <td>2371.632232</td>\n",
       "      <td>4782.795419</td>\n",
       "      <td>9012.406804</td>\n",
       "      <td>173100.839438</td>\n",
       "    </tr>\n",
       "    <tr>\n",
       "      <th>search</th>\n",
       "      <td>4958.964655</td>\n",
       "      <td>4196.849391</td>\n",
       "      <td>0.0</td>\n",
       "      <td>1981.019261</td>\n",
       "      <td>3987.259731</td>\n",
       "      <td>6510.586614</td>\n",
       "      <td>30875.079281</td>\n",
       "    </tr>\n",
       "  </tbody>\n",
       "</table>\n",
       "</div>"
      ],
      "text/plain": [
       "                 mean          std  min          q25       median  \\\n",
       "page_cat                                                            \n",
       "cat1      1581.752353  1912.477879  0.0   336.173202   935.416100   \n",
       "cat2      4194.792259  4583.309700  0.0  1162.297299  3116.789865   \n",
       "cat3      4653.785247  4408.846515  0.0  1772.305407  3627.081873   \n",
       "home      2599.690374  3849.599528  0.0   560.056283  1302.228901   \n",
       "info      5636.020066  7995.525534  0.0  1339.064223  2974.015282   \n",
       "product   7133.308081  8188.615019  0.0  2371.632232  4782.795419   \n",
       "search    4958.964655  4196.849391  0.0  1981.019261  3987.259731   \n",
       "\n",
       "                  q75            max  \n",
       "page_cat                              \n",
       "cat1      2069.120931   20122.691724  \n",
       "cat2      5470.268828   91481.003573  \n",
       "cat3      6008.227772   57970.634530  \n",
       "home      3030.915418   46660.304580  \n",
       "info      6670.339115   75345.704739  \n",
       "product   9012.406804  173100.839438  \n",
       "search    6510.586614   30875.079281  "
      ]
     },
     "execution_count": 91,
     "metadata": {},
     "output_type": "execute_result"
    }
   ],
   "source": [
    "# Non-purchase\n",
    "\n",
    "df_most_important_cats[df_most_important_cats['purchase']==False].groupby(['page_cat'])['dist_on_page'].agg([np.mean, 'std', 'min', q25,'median', q75, 'max'])"
   ]
  },
  {
   "cell_type": "code",
   "execution_count": 109,
   "metadata": {},
   "outputs": [
    {
     "data": {
      "image/png": "[encoded data removed]",
      "text/plain": [
       "<Figure size 432x288 with 1 Axes>"
      ]
     },
     "metadata": {},
     "output_type": "display_data"
    },
    {
     "data": {
      "image/png": "[encoded data removed]",
      "text/plain": [
       "<Figure size 432x288 with 1 Axes>"
      ]
     },
     "metadata": {},
     "output_type": "display_data"
    }
   ],
   "source": [
    "max_y_axis = 14000\n",
    "\n",
    "df_most_important_cats[df_most_important_cats['purchase']==True].boxplot(column='dist_on_page', by='page_cat')\n",
    "plt.title('')\n",
    "plt.xlabel('Page category')\n",
    "plt.ylabel('Distance on page in pixel')\n",
    "plt.gca().set_ylim([0,max_y_axis])\n",
    "plt.gcf().set_size_inches(6, 4)\n",
    "plt.suptitle('Purchase Sessions')\n",
    "plt.show()\n",
    "\n",
    "df_most_important_cats[df_most_important_cats['purchase']==False].boxplot(column='dist_on_page', by='page_cat')\n",
    "plt.title('')\n",
    "plt.xlabel('Page category')\n",
    "plt.ylabel('Distance on page in pixel')\n",
    "plt.gca().set_ylim([0,max_y_axis])\n",
    "plt.gcf().set_size_inches(6, 4)\n",
    "plt.suptitle('Non-purchase Sessions')\n",
    "plt.show()"
   ]
  },
  {
   "cell_type": "markdown",
   "metadata": {},
   "source": [
    "### Time on object aggregated"
   ]
  },
  {
   "cell_type": "code",
   "execution_count": 114,
   "metadata": {},
   "outputs": [],
   "source": [
    "list_columns = ['ta_area_map_Advisor_time_on_oject_aggregated',\n",
    "'ta_area_map_Filter_time_on_oject_aggregated',\n",
    "'ta_area_map_Products_time_on_oject_aggregated',\n",
    "'ta_area_map_Picture_main_time_on_oject_aggregated',\n",
    "'ta_area_map_ProductDescription_time_on_oject_aggregated',\n",
    "'ta_area_map_ProductDetails_Right_time_on_oject_aggregated',\n",
    "'ta_area_map_Quantity_time_on_oject_aggregated',\n",
    "'ta_area_map_AreaCalculation_time_on_oject_aggregated',\n",
    "'ta_area_map_In den Warenkorb_time_on_oject_aggregated']"
   ]
  },
  {
   "cell_type": "code",
   "execution_count": 124,
   "metadata": {},
   "outputs": [],
   "source": [
    "df_out_head = df_out.groupby('session_id').head(1)"
   ]
  },
  {
   "cell_type": "code",
   "execution_count": 125,
   "metadata": {},
   "outputs": [
    {
     "name": "stderr",
     "output_type": "stream",
     "text": [
      "C:\\Users\\Sellit\\Anaconda3\\lib\\site-packages\\pandas\\core\\frame.py:3137: SettingWithCopyWarning: \n",
      "A value is trying to be set on a copy of a slice from a DataFrame.\n",
      "Try using .loc[row_indexer,col_indexer] = value instead\n",
      "\n",
      "See the caveats in the documentation: http://pandas.pydata.org/pandas-docs/stable/indexing.html#indexing-view-versus-copy\n",
      "  self[k1] = value[k2]\n"
     ]
    }
   ],
   "source": [
    "df_out_head[list_columns] = df_out_head[list_columns]/1000"
   ]
  },
  {
   "cell_type": "code",
   "execution_count": 126,
   "metadata": {},
   "outputs": [
    {
     "data": {
      "text/html": [
       "<div>\n",
       "<style scoped>\n",
       "    .dataframe tbody tr th:only-of-type {\n",
       "        vertical-align: middle;\n",
       "    }\n",
       "\n",
       "    .dataframe tbody tr th {\n",
       "        vertical-align: top;\n",
       "    }\n",
       "\n",
       "    .dataframe thead th {\n",
       "        text-align: right;\n",
       "    }\n",
       "</style>\n",
       "<table border=\"1\" class=\"dataframe\">\n",
       "  <thead>\n",
       "    <tr style=\"text-align: right;\">\n",
       "      <th></th>\n",
       "      <th>ta_area_map_Advisor_time_on_oject_aggregated</th>\n",
       "      <th>ta_area_map_Filter_time_on_oject_aggregated</th>\n",
       "      <th>ta_area_map_Products_time_on_oject_aggregated</th>\n",
       "      <th>ta_area_map_Picture_main_time_on_oject_aggregated</th>\n",
       "      <th>ta_area_map_ProductDescription_time_on_oject_aggregated</th>\n",
       "      <th>ta_area_map_ProductDetails_Right_time_on_oject_aggregated</th>\n",
       "      <th>ta_area_map_Quantity_time_on_oject_aggregated</th>\n",
       "      <th>ta_area_map_AreaCalculation_time_on_oject_aggregated</th>\n",
       "      <th>ta_area_map_In den Warenkorb_time_on_oject_aggregated</th>\n",
       "    </tr>\n",
       "  </thead>\n",
       "  <tbody>\n",
       "    <tr>\n",
       "      <th>mean</th>\n",
       "      <td>0.310345</td>\n",
       "      <td>4.438561</td>\n",
       "      <td>7.965816</td>\n",
       "      <td>3.194892</td>\n",
       "      <td>5.105896</td>\n",
       "      <td>3.147961</td>\n",
       "      <td>0.776512</td>\n",
       "      <td>0.536085</td>\n",
       "      <td>0.972678</td>\n",
       "    </tr>\n",
       "  </tbody>\n",
       "</table>\n",
       "</div>"
      ],
      "text/plain": [
       "      ta_area_map_Advisor_time_on_oject_aggregated  \\\n",
       "mean                                      0.310345   \n",
       "\n",
       "      ta_area_map_Filter_time_on_oject_aggregated  \\\n",
       "mean                                     4.438561   \n",
       "\n",
       "      ta_area_map_Products_time_on_oject_aggregated  \\\n",
       "mean                                       7.965816   \n",
       "\n",
       "      ta_area_map_Picture_main_time_on_oject_aggregated  \\\n",
       "mean                                           3.194892   \n",
       "\n",
       "      ta_area_map_ProductDescription_time_on_oject_aggregated  \\\n",
       "mean                                           5.105896         \n",
       "\n",
       "      ta_area_map_ProductDetails_Right_time_on_oject_aggregated  \\\n",
       "mean                                           3.147961           \n",
       "\n",
       "      ta_area_map_Quantity_time_on_oject_aggregated  \\\n",
       "mean                                       0.776512   \n",
       "\n",
       "      ta_area_map_AreaCalculation_time_on_oject_aggregated  \\\n",
       "mean                                           0.536085      \n",
       "\n",
       "      ta_area_map_In den Warenkorb_time_on_oject_aggregated  \n",
       "mean                                           0.972678      "
      ]
     },
     "execution_count": 126,
     "metadata": {},
     "output_type": "execute_result"
    }
   ],
   "source": [
    "df_out_head[df_out_head['purchase']==True][list_columns].agg([np.mean])"
   ]
  },
  {
   "cell_type": "code",
   "execution_count": 127,
   "metadata": {},
   "outputs": [
    {
     "data": {
      "text/html": [
       "<div>\n",
       "<style scoped>\n",
       "    .dataframe tbody tr th:only-of-type {\n",
       "        vertical-align: middle;\n",
       "    }\n",
       "\n",
       "    .dataframe tbody tr th {\n",
       "        vertical-align: top;\n",
       "    }\n",
       "\n",
       "    .dataframe thead th {\n",
       "        text-align: right;\n",
       "    }\n",
       "</style>\n",
       "<table border=\"1\" class=\"dataframe\">\n",
       "  <thead>\n",
       "    <tr style=\"text-align: right;\">\n",
       "      <th></th>\n",
       "      <th>ta_area_map_Advisor_time_on_oject_aggregated</th>\n",
       "      <th>ta_area_map_Filter_time_on_oject_aggregated</th>\n",
       "      <th>ta_area_map_Products_time_on_oject_aggregated</th>\n",
       "      <th>ta_area_map_Picture_main_time_on_oject_aggregated</th>\n",
       "      <th>ta_area_map_ProductDescription_time_on_oject_aggregated</th>\n",
       "      <th>ta_area_map_ProductDetails_Right_time_on_oject_aggregated</th>\n",
       "      <th>ta_area_map_Quantity_time_on_oject_aggregated</th>\n",
       "      <th>ta_area_map_AreaCalculation_time_on_oject_aggregated</th>\n",
       "      <th>ta_area_map_In den Warenkorb_time_on_oject_aggregated</th>\n",
       "    </tr>\n",
       "  </thead>\n",
       "  <tbody>\n",
       "    <tr>\n",
       "      <th>mean</th>\n",
       "      <td>0.779097</td>\n",
       "      <td>6.331126</td>\n",
       "      <td>10.073777</td>\n",
       "      <td>2.118169</td>\n",
       "      <td>4.67283</td>\n",
       "      <td>2.690519</td>\n",
       "      <td>0.304969</td>\n",
       "      <td>0.136871</td>\n",
       "      <td>0.232896</td>\n",
       "    </tr>\n",
       "  </tbody>\n",
       "</table>\n",
       "</div>"
      ],
      "text/plain": [
       "      ta_area_map_Advisor_time_on_oject_aggregated  \\\n",
       "mean                                      0.779097   \n",
       "\n",
       "      ta_area_map_Filter_time_on_oject_aggregated  \\\n",
       "mean                                     6.331126   \n",
       "\n",
       "      ta_area_map_Products_time_on_oject_aggregated  \\\n",
       "mean                                      10.073777   \n",
       "\n",
       "      ta_area_map_Picture_main_time_on_oject_aggregated  \\\n",
       "mean                                           2.118169   \n",
       "\n",
       "      ta_area_map_ProductDescription_time_on_oject_aggregated  \\\n",
       "mean                                            4.67283         \n",
       "\n",
       "      ta_area_map_ProductDetails_Right_time_on_oject_aggregated  \\\n",
       "mean                                           2.690519           \n",
       "\n",
       "      ta_area_map_Quantity_time_on_oject_aggregated  \\\n",
       "mean                                       0.304969   \n",
       "\n",
       "      ta_area_map_AreaCalculation_time_on_oject_aggregated  \\\n",
       "mean                                           0.136871      \n",
       "\n",
       "      ta_area_map_In den Warenkorb_time_on_oject_aggregated  \n",
       "mean                                           0.232896      "
      ]
     },
     "execution_count": 127,
     "metadata": {},
     "output_type": "execute_result"
    }
   ],
   "source": [
    "df_out_head[df_out_head['purchase']==False][list_columns].agg([np.mean])"
   ]
  },
  {
   "cell_type": "code",
   "execution_count": 130,
   "metadata": {},
   "outputs": [
    {
     "data": {
      "image/png": "[encoded data removed]",
      "text/plain": [
       "<Figure size 576x360 with 1 Axes>"
      ]
     },
     "metadata": {},
     "output_type": "display_data"
    },
    {
     "data": {
      "image/png": "[encoded data removed]",
      "text/plain": [
       "<Figure size 576x360 with 1 Axes>"
      ]
     },
     "metadata": {},
     "output_type": "display_data"
    }
   ],
   "source": [
    "max_y_axis = 20\n",
    "\n",
    "df_out_head[df_out_head['purchase']==True][list_columns].boxplot(showmeans = True)\n",
    "plt.title('')\n",
    "plt.xlabel('')\n",
    "plt.ylabel('Time on object in sec')\n",
    "plt.gca().set_ylim([0,max_y_axis])\n",
    "plt.gcf().set_size_inches(8, 5)\n",
    "plt.suptitle('Purchase sessions')\n",
    "plt.xticks(np.arange(1,10), ['Advisor area', 'Filter area', 'Products area', 'Main picture', 'Product description', 'Product details', 'Quantity area', 'Area calculation', 'Buy button'], rotation='vertical')\n",
    "plt.show()\n",
    "\n",
    "df_out_head[df_out_head['purchase']==False][list_columns].boxplot(showmeans = True)\n",
    "plt.title('')\n",
    "plt.xlabel('')\n",
    "plt.ylabel('Time on object in sec')\n",
    "plt.gca().set_ylim([0,max_y_axis])\n",
    "plt.gcf().set_size_inches(8, 5)\n",
    "plt.suptitle('Non-purchase sessions')\n",
    "plt.xticks(np.arange(1,10), ['Advisor area', 'Filter area', 'Products area', 'Main picture', 'Product description', 'Product details', 'Quantity area', 'Area calculation', 'Buy button'], rotation='vertical')\n",
    "plt.show()"
   ]
  },
  {
   "cell_type": "code",
   "execution_count": null,
   "metadata": {},
   "outputs": [],
   "source": []
  }
 ],
 "metadata": {
  "kernelspec": {
   "display_name": "Python 3",
   "language": "python",
   "name": "python3"
  },
  "language_info": {
   "codemirror_mode": {
    "name": "ipython",
    "version": 3
   },
   "file_extension": ".py",
   "mimetype": "text/x-python",
   "name": "python",
   "nbconvert_exporter": "python",
   "pygments_lexer": "ipython3",
   "version": "3.6.5"
  }
 },
 "nbformat": 4,
 "nbformat_minor": 2
}
