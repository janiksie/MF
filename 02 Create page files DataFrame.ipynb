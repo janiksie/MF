{
 "cells": [
  {
   "cell_type": "code",
   "execution_count": 1,
   "metadata": {},
   "outputs": [],
   "source": [
    "import pandas as pd\n",
    "import numpy as np\n",
    "import os\n",
    "import json\n",
    "from datetime import datetime"
   ]
  },
  {
   "cell_type": "code",
   "execution_count": 2,
   "metadata": {},
   "outputs": [],
   "source": [
    "def _create_dataframes_from_json (json_x, idx):\n",
    "    '''Return a dataframe from the json file (the idx is only important for the next function)'''\n",
    "\n",
    "    # It is important to set the working directory to the correct path\n",
    "\n",
    "    # Import modules\n",
    "    import numpy as np\n",
    "    import pandas as pd\n",
    "    import json\n",
    "\n",
    "    # Load JSON and create dictionary json_data\n",
    "    with open(json_x) as json_file:\n",
    "        json_data = json.load(json_file)\n",
    "\n",
    "    # Get list of dictionaries with the corresponding x,y-pairs and time\n",
    "    events_lt = json_data.get('events')\n",
    "\n",
    "    # Create dataframe from list of dictionaries\n",
    "    events_df = pd.DataFrame(events_lt)\n",
    "\n",
    "    # Get dictionary with the information of the session\n",
    "    session_dc = json_data.get('session')\n",
    "\n",
    "    # Create dataframe from dictionary (with one row) (session data)\n",
    "    session_df_temp = pd.DataFrame.from_dict(session_dc, orient ='index')\n",
    "    session_df_temp = session_df_temp.transpose()\n",
    "\n",
    "    # Create dataframe with number of rows corresponding to events_df\n",
    "    if events_df.x.count() > 1:        \n",
    "        session_df = session_df_temp.append([session_df_temp]*(events_df.x.count()-1),ignore_index=True)\n",
    "\n",
    "    # Get the first rows of the json file in a dictionary\n",
    "    beg_dc = dict((k, json_data[k]) for k in ('startTime', 'websitePageUrl', 'visitTime',\"engagementTime\", \"pageTitle\", \"url\", \n",
    "                                       \"viewportWidth\", \"viewportHeight\", \"tags\"))\n",
    "\n",
    "    # Create dataframe from dictionary (with one row) (data of first rows)\n",
    "    beg_df_temp = pd.DataFrame.from_dict(beg_dc, orient = 'index').T\n",
    "\n",
    "    # Create dataframe with number of rows corresponding to events_df\n",
    "    if events_df.x.count() > 1:\n",
    "        beg_df = beg_df_temp.append([beg_df_temp]*(events_df.x.count()-1),ignore_index=True)\n",
    "\n",
    "    # Concatenate all three dataframes into one\n",
    "    df = pd.concat([ beg_df, events_df, session_df],axis=1)\n",
    "    \n",
    "    # Add index column (for further function)\n",
    "    df.insert(loc=0,column='idx', value = idx)\n",
    "    \n",
    "    # Check if 'ta' column exists\n",
    "    if 'ta' not in df.columns:\n",
    "        df.insert(loc=12,column='ta', value = np.NaN)\n",
    "        \n",
    "    # Check if 'v' column exists\n",
    "    if 'v' in df.columns:\n",
    "        del df['v']\n",
    "\n",
    "    # Return dataframe\n",
    "    return df"
   ]
  },
  {
   "cell_type": "code",
   "execution_count": 3,
   "metadata": {},
   "outputs": [],
   "source": [
    "def _create_dataframe_from_files(work_dir):\n",
    "    '''This function takes the working directory as an input, uses the function '_create_dataframes_from_json' to \n",
    "    transform the json files into dataframes and returns a 'big' dataframe where the single dataframes of each file \n",
    "    are concatenated'''\n",
    "    \n",
    "    # Return list of files in working directory\n",
    "    list_dir = os.listdir(work_dir)\n",
    "    \n",
    "    # Initialize dataframe with all files\n",
    "    df_total = pd.DataFrame(columns=['idx', 'startTime', 'websitePageUrl', 'visitTime', 'engagementTime',\n",
    "       'pageTitle', 'url', 'viewportWidth', 'viewportHeight', 'tags', 'e', 't',\n",
    "       'ta', 'ty', 'x', 'y', 'id', 'created', 'lastActivity', 'pages',\n",
    "       'duration', 'engagementTime', 'totalFriction', 'country', 'region',\n",
    "       'city', 'isp', 'ip', 'lang', 'userAgent', 'browser', 'browserVersion',\n",
    "       'os', 'osVersion', 'device', 'referrer', 'referrerType', 'screenRes',\n",
    "       'entryPage', 'tags', 'variables', 'watched', 'starred', 'lng', 'lat',\n",
    "       'visitorId', 'gdpr', 'visitorName', 'playbackUrl'])\n",
    "    \n",
    "    # Count how often the loop was skipped\n",
    "    skipped = 0\n",
    "    \n",
    "    # Loop over every file in the list and return as a dataframe\n",
    "    for index, file in enumerate(list_dir):\n",
    "        \n",
    "        try:\n",
    "            df_single = _create_dataframes_from_json(file,index)\n",
    "        \n",
    "            # Append dataframe of a single file to the dataframe with all files\n",
    "            df_total = df_total.append(df_single, ignore_index = True)\n",
    "    \n",
    "        except:\n",
    "            skipped += 1\n",
    "            continue\n",
    "            \n",
    "    col = ['idx','startTime', 'websitePageUrl', 'visitTime', 'engagementTime1',\n",
    "    'pageTitle', 'url', 'viewportWidth', 'viewportHeight', 'tags1', 'e', 't',\n",
    "    'ta', 'ty', 'x', 'y', 'id', 'created', 'lastActivity', 'pages',\n",
    "    'duration', 'engagementTime2', 'totalFriction', 'country', 'region',\n",
    "    'city', 'isp', 'ip', 'lang', 'userAgent', 'browser', 'browserVersion',\n",
    "    'os', 'osVersion', 'device', 'referrer', 'referrerType', 'screenRes',\n",
    "    'entryPage', 'tags2', 'variables', 'watched', 'starred', 'lng', 'lat',\n",
    "    'visitorId', 'gdpr', 'visitorName', 'playbackUrl']\n",
    "    \n",
    "    df_total.columns = col\n",
    "    \n",
    "    # Return dataframe\n",
    "    return(df_total, skipped)"
   ]
  },
  {
   "cell_type": "code",
   "execution_count": 5,
   "metadata": {},
   "outputs": [],
   "source": [
    "direction = r'C:\\Users\\Sellit\\Desktop\\BA_Coding\\Data\\final1'"
   ]
  },
  {
   "cell_type": "code",
   "execution_count": 6,
   "metadata": {},
   "outputs": [],
   "source": [
    "os.chdir(direction)"
   ]
  },
  {
   "cell_type": "code",
   "execution_count": 7,
   "metadata": {},
   "outputs": [
    {
     "name": "stdout",
     "output_type": "stream",
     "text": [
      "0:36:02.903441\n"
     ]
    }
   ],
   "source": [
    "start=datetime.now()\n",
    "(df_test,skipped) = _create_dataframe_from_files(direction)\n",
    "end = datetime.now()\n",
    "print(end - start)"
   ]
  },
  {
   "cell_type": "code",
   "execution_count": 8,
   "metadata": {},
   "outputs": [
    {
     "data": {
      "text/plain": [
       "0"
      ]
     },
     "execution_count": 8,
     "metadata": {},
     "output_type": "execute_result"
    }
   ],
   "source": [
    "skipped"
   ]
  },
  {
   "cell_type": "code",
   "execution_count": 9,
   "metadata": {},
   "outputs": [
    {
     "name": "stdout",
     "output_type": "stream",
     "text": [
      "<class 'pandas.core.frame.DataFrame'>\n",
      "RangeIndex: 698685 entries, 0 to 698684\n",
      "Data columns (total 49 columns):\n",
      "idx                698685 non-null object\n",
      "startTime          698685 non-null object\n",
      "websitePageUrl     698685 non-null object\n",
      "visitTime          698685 non-null object\n",
      "engagementTime1    698685 non-null object\n",
      "pageTitle          698685 non-null object\n",
      "url                698685 non-null object\n",
      "viewportWidth      698685 non-null object\n",
      "viewportHeight     698685 non-null object\n",
      "tags1              698685 non-null object\n",
      "e                  698685 non-null object\n",
      "t                  698685 non-null object\n",
      "ta                 289562 non-null object\n",
      "ty                 698685 non-null object\n",
      "x                  698685 non-null object\n",
      "y                  698685 non-null object\n",
      "id                 698685 non-null object\n",
      "created            698685 non-null object\n",
      "lastActivity       698685 non-null object\n",
      "pages              698685 non-null object\n",
      "duration           698685 non-null object\n",
      "engagementTime2    698685 non-null object\n",
      "totalFriction      698685 non-null object\n",
      "country            698685 non-null object\n",
      "region             698685 non-null object\n",
      "city               698685 non-null object\n",
      "isp                698685 non-null object\n",
      "ip                 698685 non-null object\n",
      "lang               698685 non-null object\n",
      "userAgent          698685 non-null object\n",
      "browser            698685 non-null object\n",
      "browserVersion     698685 non-null object\n",
      "os                 698685 non-null object\n",
      "osVersion          698685 non-null object\n",
      "device             698685 non-null object\n",
      "referrer           698685 non-null object\n",
      "referrerType       698685 non-null object\n",
      "screenRes          698685 non-null object\n",
      "entryPage          698685 non-null object\n",
      "tags2              698685 non-null object\n",
      "variables          698685 non-null object\n",
      "watched            698685 non-null object\n",
      "starred            698685 non-null object\n",
      "lng                698685 non-null object\n",
      "lat                698685 non-null object\n",
      "visitorId          698685 non-null object\n",
      "gdpr               698685 non-null object\n",
      "visitorName        0 non-null object\n",
      "playbackUrl        698685 non-null object\n",
      "dtypes: object(49)\n",
      "memory usage: 261.2+ MB\n"
     ]
    }
   ],
   "source": [
    "df_test.info()"
   ]
  },
  {
   "cell_type": "code",
   "execution_count": 14,
   "metadata": {},
   "outputs": [],
   "source": [
    "os.chdir(r'C:\\Users\\Sellit\\Desktop\\BA_Coding\\Data\\test_final')"
   ]
  },
  {
   "cell_type": "code",
   "execution_count": 15,
   "metadata": {
    "scrolled": false
   },
   "outputs": [
    {
     "name": "stderr",
     "output_type": "stream",
     "text": [
      "C:\\Users\\Sellit\\Anaconda3\\lib\\site-packages\\pandas\\core\\generic.py:1993: PerformanceWarning: \n",
      "your performance may suffer as PyTables will pickle object types that it cannot\n",
      "map directly to c-types [inferred_type->mixed-integer,key->block0_values] [items->['idx', 'startTime', 'websitePageUrl', 'visitTime', 'engagementTime1', 'pageTitle', 'url', 'viewportWidth', 'viewportHeight', 'tags1', 'e', 't', 'ta', 'ty', 'x', 'y', 'id', 'created', 'lastActivity', 'pages', 'duration', 'engagementTime2', 'totalFriction', 'country', 'region', 'city', 'isp', 'ip', 'lang', 'userAgent', 'browser', 'browserVersion', 'os', 'osVersion', 'device', 'referrer', 'referrerType', 'screenRes', 'entryPage', 'tags2', 'variables', 'watched', 'starred', 'lng', 'lat', 'visitorId', 'gdpr', 'visitorName', 'playbackUrl']]\n",
      "\n",
      "  return pytables.to_hdf(path_or_buf, key, self, **kwargs)\n"
     ]
    },
    {
     "name": "stdout",
     "output_type": "stream",
     "text": [
      "0:00:05.974882\n"
     ]
    }
   ],
   "source": [
    "start2=datetime.now()\n",
    "\n",
    "df_test.to_hdf('out.h5', 'df_test', mode='w')\n",
    "\n",
    "end2 = datetime.now()\n",
    "print(end2 - start2)"
   ]
  },
  {
   "cell_type": "code",
   "execution_count": null,
   "metadata": {},
   "outputs": [],
   "source": []
  }
 ],
 "metadata": {
  "kernelspec": {
   "display_name": "Python 3",
   "language": "python",
   "name": "python3"
  },
  "language_info": {
   "codemirror_mode": {
    "name": "ipython",
    "version": 3
   },
   "file_extension": ".py",
   "mimetype": "text/x-python",
   "name": "python",
   "nbconvert_exporter": "python",
   "pygments_lexer": "ipython3",
   "version": "3.6.5"
  }
 },
 "nbformat": 4,
 "nbformat_minor": 2
}
